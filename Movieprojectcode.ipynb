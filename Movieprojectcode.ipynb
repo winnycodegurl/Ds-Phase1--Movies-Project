{
 "cells": [
  {
   "cell_type": "markdown",
   "id": "1f68231d-8472-4648-8e05-260ea1a99ead",
   "metadata": {},
   "source": [
    "Final Project Submission\n",
    "\n",
    "Please fill out:\n",
    "\n",
    "                                             Student name: Winfred kinya Bundi\n",
    "\n",
    "                                        Student pace:  full time:Data Science Hybrid Class\n",
    "\n",
    "                                           Scheduled project review date/time: 24.03.24\n",
    "\n",
    "                                           Instructor name: MaryAnn Mwikali\n",
    "\n",
    "Blog post URL:"
   ]
  },
  {
   "cell_type": "markdown",
   "id": "c9f0a257-719d-48f2-b959-ddbe62df2266",
   "metadata": {},
   "source": [
    "Your code here - remember to use markdown cells for comments as well!"
   ]
  },
  {
   "cell_type": "markdown",
   "id": "c5fb8630-5ccf-4145-8365-fa0e90ab11f9",
   "metadata": {},
   "source": [
    "We want to have a look at our data sets.\n",
    "The data sets are from three files:  Two CSV files named 'tn.movie_budgets.csv.gz', and 'bom.movie_gross.csv.gz' and a sqlite database named 'im.db'\n",
    "Parsing through the contents of thae data sets will help gain a a better understandig of the contets of the data.\n",
    "Lets go!"
   ]
  },
  {
   "cell_type": "code",
   "execution_count": 1,
   "id": "2b356c24-0db7-47b6-aeee-f725715a10ec",
   "metadata": {},
   "outputs": [
    {
     "name": "stdout",
     "output_type": "stream",
     "text": [
      "      id  release_date                                        movie  \\\n",
      "0      1  Dec 18, 2009                                       Avatar   \n",
      "1      2  May 20, 2011  Pirates of the Caribbean: On Stranger Tides   \n",
      "2      3   Jun 7, 2019                                 Dark Phoenix   \n",
      "3      4   May 1, 2015                      Avengers: Age of Ultron   \n",
      "4      5  Dec 15, 2017            Star Wars Ep. VIII: The Last Jedi   \n",
      "...   ..           ...                                          ...   \n",
      "5777  78  Dec 31, 2018                                       Red 11   \n",
      "5778  79   Apr 2, 1999                                    Following   \n",
      "5779  80  Jul 13, 2005                Return to the Land of Wonders   \n",
      "5780  81  Sep 29, 2015                         A Plague So Pleasant   \n",
      "5781  82   Aug 5, 2005                            My Date With Drew   \n",
      "\n",
      "     production_budget domestic_gross worldwide_gross  \n",
      "0         $425,000,000   $760,507,625  $2,776,345,279  \n",
      "1         $410,600,000   $241,063,875  $1,045,663,875  \n",
      "2         $350,000,000    $42,762,350    $149,762,350  \n",
      "3         $330,600,000   $459,005,868  $1,403,013,963  \n",
      "4         $317,000,000   $620,181,382  $1,316,721,747  \n",
      "...                ...            ...             ...  \n",
      "5777            $7,000             $0              $0  \n",
      "5778            $6,000        $48,482        $240,495  \n",
      "5779            $5,000         $1,338          $1,338  \n",
      "5780            $1,400             $0              $0  \n",
      "5781            $1,100       $181,041        $181,041  \n",
      "\n",
      "[5782 rows x 6 columns]\n"
     ]
    }
   ],
   "source": [
    "#To open the csv file  in this Notebook we need to use pandas built in functions.\n",
    "#We import pandas then read the data as below.\n",
    "\n",
    "import pandas as pd\n",
    "\n",
    "movie_budgets=pd.read_csv('tn.movie_budgets.csv.gz')\n",
    "print(movie_budgets)\n"
   ]
  },
  {
   "cell_type": "markdown",
   "id": "5502fb59-a3a7-4bc8-a82b-d8174c98fc6b",
   "metadata": {},
   "source": [
    "size of our data frame =5782 rows x 6 columns"
   ]
  },
  {
   "cell_type": "code",
   "execution_count": 2,
   "id": "8da564a1-6eac-4b68-bbd0-86337da2b55f",
   "metadata": {},
   "outputs": [
    {
     "data": {
      "text/plain": [
       "pandas.core.frame.DataFrame"
      ]
     },
     "execution_count": 2,
     "metadata": {},
     "output_type": "execute_result"
    }
   ],
   "source": [
    "#checking on the type of 'movie_budget' data\n",
    "type(movie_budgets)"
   ]
  },
  {
   "cell_type": "code",
   "execution_count": 3,
   "id": "13fb0a2e-cd6a-49b6-bbbd-6f86f3ce3d9b",
   "metadata": {},
   "outputs": [
    {
     "data": {
      "text/html": [
       "<div>\n",
       "<style scoped>\n",
       "    .dataframe tbody tr th:only-of-type {\n",
       "        vertical-align: middle;\n",
       "    }\n",
       "\n",
       "    .dataframe tbody tr th {\n",
       "        vertical-align: top;\n",
       "    }\n",
       "\n",
       "    .dataframe thead th {\n",
       "        text-align: right;\n",
       "    }\n",
       "</style>\n",
       "<table border=\"1\" class=\"dataframe\">\n",
       "  <thead>\n",
       "    <tr style=\"text-align: right;\">\n",
       "      <th></th>\n",
       "      <th>id</th>\n",
       "      <th>release_date</th>\n",
       "      <th>movie</th>\n",
       "      <th>production_budget</th>\n",
       "      <th>domestic_gross</th>\n",
       "      <th>worldwide_gross</th>\n",
       "    </tr>\n",
       "  </thead>\n",
       "  <tbody>\n",
       "    <tr>\n",
       "      <th>0</th>\n",
       "      <td>1</td>\n",
       "      <td>Dec 18, 2009</td>\n",
       "      <td>Avatar</td>\n",
       "      <td>$425,000,000</td>\n",
       "      <td>$760,507,625</td>\n",
       "      <td>$2,776,345,279</td>\n",
       "    </tr>\n",
       "    <tr>\n",
       "      <th>1</th>\n",
       "      <td>2</td>\n",
       "      <td>May 20, 2011</td>\n",
       "      <td>Pirates of the Caribbean: On Stranger Tides</td>\n",
       "      <td>$410,600,000</td>\n",
       "      <td>$241,063,875</td>\n",
       "      <td>$1,045,663,875</td>\n",
       "    </tr>\n",
       "    <tr>\n",
       "      <th>2</th>\n",
       "      <td>3</td>\n",
       "      <td>Jun 7, 2019</td>\n",
       "      <td>Dark Phoenix</td>\n",
       "      <td>$350,000,000</td>\n",
       "      <td>$42,762,350</td>\n",
       "      <td>$149,762,350</td>\n",
       "    </tr>\n",
       "    <tr>\n",
       "      <th>3</th>\n",
       "      <td>4</td>\n",
       "      <td>May 1, 2015</td>\n",
       "      <td>Avengers: Age of Ultron</td>\n",
       "      <td>$330,600,000</td>\n",
       "      <td>$459,005,868</td>\n",
       "      <td>$1,403,013,963</td>\n",
       "    </tr>\n",
       "    <tr>\n",
       "      <th>4</th>\n",
       "      <td>5</td>\n",
       "      <td>Dec 15, 2017</td>\n",
       "      <td>Star Wars Ep. VIII: The Last Jedi</td>\n",
       "      <td>$317,000,000</td>\n",
       "      <td>$620,181,382</td>\n",
       "      <td>$1,316,721,747</td>\n",
       "    </tr>\n",
       "    <tr>\n",
       "      <th>5</th>\n",
       "      <td>6</td>\n",
       "      <td>Dec 18, 2015</td>\n",
       "      <td>Star Wars Ep. VII: The Force Awakens</td>\n",
       "      <td>$306,000,000</td>\n",
       "      <td>$936,662,225</td>\n",
       "      <td>$2,053,311,220</td>\n",
       "    </tr>\n",
       "    <tr>\n",
       "      <th>6</th>\n",
       "      <td>7</td>\n",
       "      <td>Apr 27, 2018</td>\n",
       "      <td>Avengers: Infinity War</td>\n",
       "      <td>$300,000,000</td>\n",
       "      <td>$678,815,482</td>\n",
       "      <td>$2,048,134,200</td>\n",
       "    </tr>\n",
       "    <tr>\n",
       "      <th>7</th>\n",
       "      <td>8</td>\n",
       "      <td>May 24, 2007</td>\n",
       "      <td>Pirates of the Caribbean: At Worldâs End</td>\n",
       "      <td>$300,000,000</td>\n",
       "      <td>$309,420,425</td>\n",
       "      <td>$963,420,425</td>\n",
       "    </tr>\n",
       "    <tr>\n",
       "      <th>8</th>\n",
       "      <td>9</td>\n",
       "      <td>Nov 17, 2017</td>\n",
       "      <td>Justice League</td>\n",
       "      <td>$300,000,000</td>\n",
       "      <td>$229,024,295</td>\n",
       "      <td>$655,945,209</td>\n",
       "    </tr>\n",
       "    <tr>\n",
       "      <th>9</th>\n",
       "      <td>10</td>\n",
       "      <td>Nov 6, 2015</td>\n",
       "      <td>Spectre</td>\n",
       "      <td>$300,000,000</td>\n",
       "      <td>$200,074,175</td>\n",
       "      <td>$879,620,923</td>\n",
       "    </tr>\n",
       "  </tbody>\n",
       "</table>\n",
       "</div>"
      ],
      "text/plain": [
       "   id  release_date                                        movie  \\\n",
       "0   1  Dec 18, 2009                                       Avatar   \n",
       "1   2  May 20, 2011  Pirates of the Caribbean: On Stranger Tides   \n",
       "2   3   Jun 7, 2019                                 Dark Phoenix   \n",
       "3   4   May 1, 2015                      Avengers: Age of Ultron   \n",
       "4   5  Dec 15, 2017            Star Wars Ep. VIII: The Last Jedi   \n",
       "5   6  Dec 18, 2015         Star Wars Ep. VII: The Force Awakens   \n",
       "6   7  Apr 27, 2018                       Avengers: Infinity War   \n",
       "7   8  May 24, 2007   Pirates of the Caribbean: At Worldâs End   \n",
       "8   9  Nov 17, 2017                               Justice League   \n",
       "9  10   Nov 6, 2015                                      Spectre   \n",
       "\n",
       "  production_budget domestic_gross worldwide_gross  \n",
       "0      $425,000,000   $760,507,625  $2,776,345,279  \n",
       "1      $410,600,000   $241,063,875  $1,045,663,875  \n",
       "2      $350,000,000    $42,762,350    $149,762,350  \n",
       "3      $330,600,000   $459,005,868  $1,403,013,963  \n",
       "4      $317,000,000   $620,181,382  $1,316,721,747  \n",
       "5      $306,000,000   $936,662,225  $2,053,311,220  \n",
       "6      $300,000,000   $678,815,482  $2,048,134,200  \n",
       "7      $300,000,000   $309,420,425    $963,420,425  \n",
       "8      $300,000,000   $229,024,295    $655,945,209  \n",
       "9      $300,000,000   $200,074,175    $879,620,923  "
      ]
     },
     "execution_count": 3,
     "metadata": {},
     "output_type": "execute_result"
    }
   ],
   "source": [
    "#The first 10 elements of the data \n",
    "movie_budgets.head(10)\n"
   ]
  },
  {
   "cell_type": "code",
   "execution_count": 4,
   "id": "abc33a0a-37a7-482e-9f1e-8d668447b31d",
   "metadata": {},
   "outputs": [
    {
     "name": "stdout",
     "output_type": "stream",
     "text": [
      "Column 'id' has data type: int64\n",
      "Column 'release_date' has data type: object\n",
      "Column 'movie' has data type: object\n",
      "Column 'production_budget' has data type: object\n",
      "Column 'domestic_gross' has data type: object\n",
      "Column 'worldwide_gross' has data type: object\n"
     ]
    }
   ],
   "source": [
    "# check the data type in each column of the data in movie_budget.\n",
    "# loop over the columns\n",
    "#use a function \n",
    "def column_data_type(movie_budgets):\n",
    "    for column_name in movie_budgets.columns:\n",
    "        data_type = movie_budgets[column_name].dtype\n",
    "        print(f\"Column '{column_name}' has data type: {data_type}\")\n",
    "column_data_type(movie_budgets)\n"
   ]
  },
  {
   "cell_type": "markdown",
   "id": "c388c9ad-b988-4073-91a1-cb0c99a5e9de",
   "metadata": {},
   "source": [
    "The above data set named movie_budgets is a dataframe cointaining  5782 rows and 6 columns.The columns include id,release_date,movie,production_budget,domestic_gross and worldwide_gross.\n"
   ]
  },
  {
   "cell_type": "code",
   "execution_count": 5,
   "id": "bddda29a-2f2d-4858-908b-ca1b0c89126c",
   "metadata": {},
   "outputs": [
    {
     "data": {
      "text/plain": [
       "id                   0\n",
       "release_date         0\n",
       "movie                0\n",
       "production_budget    0\n",
       "domestic_gross       0\n",
       "worldwide_gross      0\n",
       "dtype: int64"
      ]
     },
     "execution_count": 5,
     "metadata": {},
     "output_type": "execute_result"
    }
   ],
   "source": [
    "#Understanding our data.\n",
    "#checking for missing values in each columns.\n",
    "\n",
    "movie_budgets.isna().sum()"
   ]
  },
  {
   "cell_type": "markdown",
   "id": "222cfce7-a4e1-4a0d-8a2e-e90a9c2fd5de",
   "metadata": {},
   "source": [
    "dataframe has no missing values."
   ]
  },
  {
   "cell_type": "markdown",
   "id": "01a4be39-5f42-4549-9cde-35ec9cbb48dc",
   "metadata": {},
   "source": [
    "Summary statistics of the data."
   ]
  },
  {
   "cell_type": "code",
   "execution_count": 6,
   "id": "9c44c129-dd39-4a25-9e83-73f65abb0d2d",
   "metadata": {},
   "outputs": [],
   "source": [
    "#Changing the column production_budget and domestic_gross into integer to enable manipulation.\n",
    "movie_budgets['production_budget'] = movie_budgets['production_budget'].str.replace('$', '').str.replace(',', '').astype(float)\n",
    "\n",
    "movie_budgets['domestic_gross'] = movie_budgets['domestic_gross'].str.replace('$', '').str.replace(',', '').astype(float)\n",
    "\n",
    "\n",
    "movie_budgets['domestic_gross'] = movie_budgets['domestic_gross'].astype(int)\n",
    "movie_budgets['production_budget'] = movie_budgets['production_budget'].astype(int)"
   ]
  },
  {
   "cell_type": "code",
   "execution_count": 7,
   "id": "5bc92c3c-52da-4f9b-a976-99ac95e6676f",
   "metadata": {},
   "outputs": [
    {
     "data": {
      "text/plain": [
       "Index(['id', 'release_date', 'movie', 'production_budget', 'domestic_gross',\n",
       "       'worldwide_gross'],\n",
       "      dtype='object')"
      ]
     },
     "execution_count": 7,
     "metadata": {},
     "output_type": "execute_result"
    }
   ],
   "source": [
    "#our data movie_budgets columns.\n",
    "movie_budgets.columns"
   ]
  },
  {
   "cell_type": "code",
   "execution_count": 8,
   "id": "42f1ba4b-2f95-4802-baeb-92695f0df7ae",
   "metadata": {},
   "outputs": [
    {
     "name": "stdout",
     "output_type": "stream",
     "text": [
      "count    5.782000e+03\n",
      "mean     3.158776e+07\n",
      "std      4.181208e+07\n",
      "min      1.100000e+03\n",
      "25%      5.000000e+06\n",
      "50%      1.700000e+07\n",
      "75%      4.000000e+07\n",
      "max      4.250000e+08\n",
      "Name: production_budget, dtype: float64 count    5.782000e+03\n",
      "mean     4.187333e+07\n",
      "std      6.824060e+07\n",
      "min      0.000000e+00\n",
      "25%      1.429534e+06\n",
      "50%      1.722594e+07\n",
      "75%      5.234866e+07\n",
      "max      9.366622e+08\n",
      "Name: domestic_gross, dtype: float64 count     5782\n",
      "unique    5356\n",
      "top         $0\n",
      "freq       367\n",
      "Name: worldwide_gross, dtype: object\n"
     ]
    }
   ],
   "source": [
    "#summary statistics of the data.\n",
    "summary1 = movie_budgets['production_budget'].describe()\n",
    "summary2 = movie_budgets['domestic_gross'].describe()\n",
    "summary3 = movie_budgets['worldwide_gross'].describe()\n",
    " \n",
    "print(summary1, summary2, summary3)"
   ]
  },
  {
   "cell_type": "markdown",
   "id": "3ca61b55-a7b0-4147-9283-6f9f8714ed1a",
   "metadata": {},
   "source": [
    "The average production_budget of the movie is:3.158776e+07 translating into 3,1587,760 dollars\n",
    "The domestic_gross income is:4.187333e+07 translating to 4,1873,330 dollars.\n"
   ]
  },
  {
   "cell_type": "code",
   "execution_count": 9,
   "id": "75f8a242-9cb7-43c6-8186-87070d7ce2c4",
   "metadata": {},
   "outputs": [
    {
     "name": "stdout",
     "output_type": "stream",
     "text": [
      "      id  release_date                                        movie  \\\n",
      "0      1  Dec 18, 2009                                       Avatar   \n",
      "1      2  May 20, 2011  Pirates of the Caribbean: On Stranger Tides   \n",
      "2      3   Jun 7, 2019                                 Dark Phoenix   \n",
      "3      4   May 1, 2015                      Avengers: Age of Ultron   \n",
      "4      5  Dec 15, 2017            Star Wars Ep. VIII: The Last Jedi   \n",
      "...   ..           ...                                          ...   \n",
      "5777  78  Dec 31, 2018                                       Red 11   \n",
      "5778  79   Apr 2, 1999                                    Following   \n",
      "5779  80  Jul 13, 2005                Return to the Land of Wonders   \n",
      "5780  81  Sep 29, 2015                         A Plague So Pleasant   \n",
      "5781  82   Aug 5, 2005                            My Date With Drew   \n",
      "\n",
      "      production_budget  domestic_gross worldwide_gross  \n",
      "0             425000000       760507625  $2,776,345,279  \n",
      "1             410600000       241063875  $1,045,663,875  \n",
      "2             350000000        42762350    $149,762,350  \n",
      "3             330600000       459005868  $1,403,013,963  \n",
      "4             317000000       620181382  $1,316,721,747  \n",
      "...                 ...             ...             ...  \n",
      "5777               7000               0              $0  \n",
      "5778               6000           48482        $240,495  \n",
      "5779               5000            1338          $1,338  \n",
      "5780               1400               0              $0  \n",
      "5781               1100          181041        $181,041  \n",
      "\n",
      "[5782 rows x 6 columns]\n"
     ]
    }
   ],
   "source": [
    "movie_budgets_no_duplicates = movie_budgets.drop_duplicates()\n",
    "\n",
    "# Displaying the DataFrame without duplicates\n",
    "print(movie_budgets_no_duplicates)"
   ]
  },
  {
   "cell_type": "code",
   "execution_count": 10,
   "id": "dd53cca2-ab9a-4862-97e4-29eb452b3fcb",
   "metadata": {
    "scrolled": true
   },
   "outputs": [
    {
     "name": "stdout",
     "output_type": "stream",
     "text": [
      "No duplicates found.\n"
     ]
    }
   ],
   "source": [
    "duplicates = movie_budgets[movie_budgets.duplicated()]\n",
    "\n",
    "if duplicates.empty:\n",
    "    print(\"No duplicates found.\")\n",
    "else:\n",
    "    print(\"Duplicates found:\")\n",
    "    print(duplicates)"
   ]
  },
  {
   "cell_type": "code",
   "execution_count": 11,
   "id": "d7ad5c24-8c63-483d-99b8-535d3b8e82f7",
   "metadata": {},
   "outputs": [
    {
     "name": "stdout",
     "output_type": "stream",
     "text": [
      "Column 'id' has data type: int64\n",
      "Column 'release_date' has data type: object\n",
      "Column 'movie' has data type: object\n",
      "Column 'production_budget' has data type: int32\n",
      "Column 'domestic_gross' has data type: int32\n",
      "Column 'worldwide_gross' has data type: object\n"
     ]
    }
   ],
   "source": [
    "def column_data_type(movie_budgets):\n",
    "    for column_name in movie_budgets.columns:\n",
    "        data_type = movie_budgets[column_name].dtype\n",
    "        print(f\"Column '{column_name}' has data type: {data_type}\")\n",
    "column_data_type(movie_budgets)\n"
   ]
  },
  {
   "cell_type": "code",
   "execution_count": 12,
   "id": "4d814a54-4106-4f06-8d18-832b4e2cb577",
   "metadata": {},
   "outputs": [
    {
     "name": "stdout",
     "output_type": "stream",
     "text": [
      "      id  release_date                                        movie  \\\n",
      "0      1  Dec 18, 2009                                       Avatar   \n",
      "1      2  May 20, 2011  Pirates of the Caribbean: On Stranger Tides   \n",
      "2      3   Jun 7, 2019                                 Dark Phoenix   \n",
      "3      4   May 1, 2015                      Avengers: Age of Ultron   \n",
      "4      5  Dec 15, 2017            Star Wars Ep. VIII: The Last Jedi   \n",
      "...   ..           ...                                          ...   \n",
      "5777  78  Dec 31, 2018                                       Red 11   \n",
      "5778  79   Apr 2, 1999                                    Following   \n",
      "5779  80  Jul 13, 2005                Return to the Land of Wonders   \n",
      "5780  81  Sep 29, 2015                         A Plague So Pleasant   \n",
      "5781  82   Aug 5, 2005                            My Date With Drew   \n",
      "\n",
      "      production_budget  domestic_gross worldwide_gross  \n",
      "0             425000000       760507625  $2,776,345,279  \n",
      "1             410600000       241063875  $1,045,663,875  \n",
      "2             350000000        42762350    $149,762,350  \n",
      "3             330600000       459005868  $1,403,013,963  \n",
      "4             317000000       620181382  $1,316,721,747  \n",
      "...                 ...             ...             ...  \n",
      "5777               7000               0              $0  \n",
      "5778               6000           48482        $240,495  \n",
      "5779               5000            1338          $1,338  \n",
      "5780               1400               0              $0  \n",
      "5781               1100          181041        $181,041  \n",
      "\n",
      "[5782 rows x 6 columns]\n"
     ]
    }
   ],
   "source": [
    "import pandas as pd\n",
    "\n",
    "# Assuming df is your DataFrame containing the data\n",
    "# Replace 'df' with the name of your DataFrame if it's different\n",
    "\n",
    "# Create a copy of the DataFrame before removing duplicates\n",
    "movie_budgets_original = movie_budgets.copy()\n",
    "\n",
    "# Removing duplicates\n",
    "movie_budgets_no_duplicates = movie_budgets.drop_duplicates()\n",
    "\n",
    "# Store the indices of removed duplicates\n",
    "removed_indices = movie_budgets.index.difference(movie_budgets_no_duplicates.index)\n",
    "\n",
    "# Restore duplicates\n",
    "if not removed_indices.empty:\n",
    "    movie_budgets_restored = pd.concat([movie_budgets_original, movie_budget.loc[removed_indices]])\n",
    "else:\n",
    "    movie_budgets_restored = movie_budgets_original\n",
    "\n",
    "# Display the DataFrame with restored duplicates\n",
    "print(movie_budgets_restored)"
   ]
  },
  {
   "cell_type": "code",
   "execution_count": 13,
   "id": "985ad6e3-b472-4b6e-8e2e-d09c14fce655",
   "metadata": {},
   "outputs": [
    {
     "name": "stdout",
     "output_type": "stream",
     "text": [
      "No duplicates found.\n"
     ]
    }
   ],
   "source": [
    "duplicates = movie_budgets_restored[movie_budgets_restored.duplicated()]\n",
    "\n",
    "if duplicates.empty:\n",
    "    print(\"No duplicates found.\")\n",
    "else:\n",
    "    print(\"Duplicates found:\")\n",
    "    print(duplicates)"
   ]
  },
  {
   "cell_type": "markdown",
   "id": "57867440-a9a7-4e4a-8e46-b141fb5cd719",
   "metadata": {},
   "source": [
    "Data visualization of the relationship between the production budget and Domestic Income."
   ]
  },
  {
   "cell_type": "code",
   "execution_count": 14,
   "id": "b101f934-eb0c-4781-99a9-d6f501c6f60a",
   "metadata": {},
   "outputs": [
    {
     "data": {
      "image/png": "[encoded data removed]",
      "text/plain": [
       "<Figure size 1000x600 with 1 Axes>"
      ]
     },
     "metadata": {},
     "output_type": "display_data"
    }
   ],
   "source": [
    "import pandas as pd\n",
    "import matplotlib.pyplot as plt\n",
    "\n",
    "# Assuming df is your DataFrame containing the data\n",
    "# Replace 'df' with the name of your DataFrame if it's different\n",
    "\n",
    "# Plotting scatterplot\n",
    "plt.figure(figsize=(10, 6))\n",
    "plt.scatter(movie_budgets['production_budget'], movie_budgets['domestic_gross'], alpha=0.5)\n",
    "plt.title('Scatterplot between Production Budget and Domestic Gross')\n",
    "plt.xlabel('Production Budget')\n",
    "plt.ylabel('Domestic Gross')\n",
    "plt.grid(True)\n",
    "plt.show()"
   ]
  },
  {
   "cell_type": "code",
   "execution_count": 15,
   "id": "68bc30b5-8b2c-4b6b-b94d-8b7ecfdcbb3a",
   "metadata": {},
   "outputs": [
    {
     "name": "stdout",
     "output_type": "stream",
     "text": [
      "                   production_budget  domestic_gross\n",
      "production_budget           1.000000        0.685682\n",
      "domestic_gross              0.685682        1.000000\n",
      "                   production_budget  domestic_gross\n",
      "production_budget       1.748250e+15    1.956443e+15\n",
      "domestic_gross          1.956443e+15    4.656779e+15\n"
     ]
    }
   ],
   "source": [
    "#checking for correlation and covarience\n",
    "import pandas as pd\n",
    "\n",
    "# Checking for correlation\n",
    "column_1='production_budget'\n",
    "column_2= 'domestic_gross'\n",
    "correlation = movie_budgets[['production_budget','domestic_gross' ]].corr()\n",
    "print(correlation)\n",
    "\n",
    "column_1='production_budget'\n",
    "column_2= 'domestic_gross'\n",
    "covarience = movie_budgets[['production_budget','domestic_gross' ]].cov()\n",
    "print(covarience)\n",
    "\n"
   ]
  },
  {
   "cell_type": "markdown",
   "id": "99f147dd-1e2d-4e7a-9337-92ed5f1ce869",
   "metadata": {},
   "source": [
    "A correlation coefficient of 0.685682 indicates a moderately positive correlation between the two variables. This means that as production_budget increases, domestic_gross tends to increase as well.\n",
    "In this case, a correlation coefficient of  0.685682 suggests a moderate positive relationship between production_budget and domestic_gross."
   ]
  },
  {
   "cell_type": "markdown",
   "id": "3d194f5d-87aa-4288-8cd8-260bb31e1846",
   "metadata": {},
   "source": [
    "A positive covariance suggests that when production_budget increases, domestic_gross also tends to increase, WHILE when the production_budget decreases the domestic_gross also decreases.\n",
    "the magnitude is quite large, indicating a strong relationship bwtween the production budget and domestic income."
   ]
  },
  {
   "cell_type": "code",
   "execution_count": 16,
   "id": "570928c1-f34e-46b8-8b1e-0c93a78fed73",
   "metadata": {},
   "outputs": [
    {
     "name": "stdout",
     "output_type": "stream",
     "text": [
      "                                            title      studio  domestic_gross  \\\n",
      "0                                     Toy Story 3          BV     415000000.0   \n",
      "1                      Alice in Wonderland (2010)          BV     334200000.0   \n",
      "2     Harry Potter and the Deathly Hallows Part 1          WB     296000000.0   \n",
      "3                                       Inception          WB     292600000.0   \n",
      "4                             Shrek Forever After        P/DW     238700000.0   \n",
      "...                                           ...         ...             ...   \n",
      "3382                                    The Quake       Magn.          6200.0   \n",
      "3383                  Edward II (2018 re-release)          FM          4800.0   \n",
      "3384                                     El Pacto        Sony          2500.0   \n",
      "3385                                     The Swan  Synergetic          2400.0   \n",
      "3386                            An Actor Prepares       Grav.          1700.0   \n",
      "\n",
      "     foreign_gross  year  \n",
      "0        652000000  2010  \n",
      "1        691300000  2010  \n",
      "2        664300000  2010  \n",
      "3        535700000  2010  \n",
      "4        513900000  2010  \n",
      "...            ...   ...  \n",
      "3382           NaN  2018  \n",
      "3383           NaN  2018  \n",
      "3384           NaN  2018  \n",
      "3385           NaN  2018  \n",
      "3386           NaN  2018  \n",
      "\n",
      "[3387 rows x 5 columns]\n"
     ]
    }
   ],
   "source": [
    "import pandas as pd\n",
    "df = pd.read_csv('bom.movie_gross.csv.gz')\n",
    "print (df)"
   ]
  },
  {
   "cell_type": "code",
   "execution_count": 17,
   "id": "88860255-766e-4542-bae0-28161b351867",
   "metadata": {},
   "outputs": [
    {
     "name": "stdout",
     "output_type": "stream",
     "text": [
      "<class 'pandas.core.frame.DataFrame'>\n",
      "RangeIndex: 3387 entries, 0 to 3386\n",
      "Data columns (total 5 columns):\n",
      " #   Column          Non-Null Count  Dtype  \n",
      "---  ------          --------------  -----  \n",
      " 0   title           3387 non-null   object \n",
      " 1   studio          3382 non-null   object \n",
      " 2   domestic_gross  3359 non-null   float64\n",
      " 3   foreign_gross   2037 non-null   object \n",
      " 4   year            3387 non-null   int64  \n",
      "dtypes: float64(1), int64(1), object(3)\n",
      "memory usage: 132.4+ KB\n"
     ]
    }
   ],
   "source": [
    "df.info()"
   ]
  },
  {
   "cell_type": "markdown",
   "id": "1780dafc-db33-4ad8-be50-15fe1fcf2e27",
   "metadata": {},
   "source": [
    "Second data set has 3387 rows x 5 columns."
   ]
  },
  {
   "cell_type": "code",
   "execution_count": 18,
   "id": "fde51e60-a30f-4c68-b106-6bbb2bc85a5c",
   "metadata": {},
   "outputs": [
    {
     "data": {
      "text/html": [
       "<div>\n",
       "<style scoped>\n",
       "    .dataframe tbody tr th:only-of-type {\n",
       "        vertical-align: middle;\n",
       "    }\n",
       "\n",
       "    .dataframe tbody tr th {\n",
       "        vertical-align: top;\n",
       "    }\n",
       "\n",
       "    .dataframe thead th {\n",
       "        text-align: right;\n",
       "    }\n",
       "</style>\n",
       "<table border=\"1\" class=\"dataframe\">\n",
       "  <thead>\n",
       "    <tr style=\"text-align: right;\">\n",
       "      <th></th>\n",
       "      <th>domestic_gross</th>\n",
       "      <th>year</th>\n",
       "    </tr>\n",
       "  </thead>\n",
       "  <tbody>\n",
       "    <tr>\n",
       "      <th>count</th>\n",
       "      <td>3.359000e+03</td>\n",
       "      <td>3387.000000</td>\n",
       "    </tr>\n",
       "    <tr>\n",
       "      <th>mean</th>\n",
       "      <td>2.874585e+07</td>\n",
       "      <td>2013.958075</td>\n",
       "    </tr>\n",
       "    <tr>\n",
       "      <th>std</th>\n",
       "      <td>6.698250e+07</td>\n",
       "      <td>2.478141</td>\n",
       "    </tr>\n",
       "    <tr>\n",
       "      <th>min</th>\n",
       "      <td>1.000000e+02</td>\n",
       "      <td>2010.000000</td>\n",
       "    </tr>\n",
       "    <tr>\n",
       "      <th>25%</th>\n",
       "      <td>1.200000e+05</td>\n",
       "      <td>2012.000000</td>\n",
       "    </tr>\n",
       "    <tr>\n",
       "      <th>50%</th>\n",
       "      <td>1.400000e+06</td>\n",
       "      <td>2014.000000</td>\n",
       "    </tr>\n",
       "    <tr>\n",
       "      <th>75%</th>\n",
       "      <td>2.790000e+07</td>\n",
       "      <td>2016.000000</td>\n",
       "    </tr>\n",
       "    <tr>\n",
       "      <th>max</th>\n",
       "      <td>9.367000e+08</td>\n",
       "      <td>2018.000000</td>\n",
       "    </tr>\n",
       "  </tbody>\n",
       "</table>\n",
       "</div>"
      ],
      "text/plain": [
       "       domestic_gross         year\n",
       "count    3.359000e+03  3387.000000\n",
       "mean     2.874585e+07  2013.958075\n",
       "std      6.698250e+07     2.478141\n",
       "min      1.000000e+02  2010.000000\n",
       "25%      1.200000e+05  2012.000000\n",
       "50%      1.400000e+06  2014.000000\n",
       "75%      2.790000e+07  2016.000000\n",
       "max      9.367000e+08  2018.000000"
      ]
     },
     "execution_count": 18,
     "metadata": {},
     "output_type": "execute_result"
    }
   ],
   "source": [
    "#The summary statistics include:\n",
    "df.describe()"
   ]
  },
  {
   "cell_type": "code",
   "execution_count": 19,
   "id": "1dc1d9ff-9b37-4ea9-8364-d06c60168b6d",
   "metadata": {},
   "outputs": [
    {
     "data": {
      "text/html": [
       "<div>\n",
       "<style scoped>\n",
       "    .dataframe tbody tr th:only-of-type {\n",
       "        vertical-align: middle;\n",
       "    }\n",
       "\n",
       "    .dataframe tbody tr th {\n",
       "        vertical-align: top;\n",
       "    }\n",
       "\n",
       "    .dataframe thead th {\n",
       "        text-align: right;\n",
       "    }\n",
       "</style>\n",
       "<table border=\"1\" class=\"dataframe\">\n",
       "  <thead>\n",
       "    <tr style=\"text-align: right;\">\n",
       "      <th></th>\n",
       "      <th>title</th>\n",
       "      <th>studio</th>\n",
       "      <th>domestic_gross</th>\n",
       "      <th>foreign_gross</th>\n",
       "      <th>year</th>\n",
       "    </tr>\n",
       "  </thead>\n",
       "  <tbody>\n",
       "    <tr>\n",
       "      <th>0</th>\n",
       "      <td>Toy Story 3</td>\n",
       "      <td>BV</td>\n",
       "      <td>415000000.0</td>\n",
       "      <td>652000000</td>\n",
       "      <td>2010</td>\n",
       "    </tr>\n",
       "    <tr>\n",
       "      <th>1</th>\n",
       "      <td>Alice in Wonderland (2010)</td>\n",
       "      <td>BV</td>\n",
       "      <td>334200000.0</td>\n",
       "      <td>691300000</td>\n",
       "      <td>2010</td>\n",
       "    </tr>\n",
       "    <tr>\n",
       "      <th>2</th>\n",
       "      <td>Harry Potter and the Deathly Hallows Part 1</td>\n",
       "      <td>WB</td>\n",
       "      <td>296000000.0</td>\n",
       "      <td>664300000</td>\n",
       "      <td>2010</td>\n",
       "    </tr>\n",
       "    <tr>\n",
       "      <th>3</th>\n",
       "      <td>Inception</td>\n",
       "      <td>WB</td>\n",
       "      <td>292600000.0</td>\n",
       "      <td>535700000</td>\n",
       "      <td>2010</td>\n",
       "    </tr>\n",
       "    <tr>\n",
       "      <th>4</th>\n",
       "      <td>Shrek Forever After</td>\n",
       "      <td>P/DW</td>\n",
       "      <td>238700000.0</td>\n",
       "      <td>513900000</td>\n",
       "      <td>2010</td>\n",
       "    </tr>\n",
       "    <tr>\n",
       "      <th>5</th>\n",
       "      <td>The Twilight Saga: Eclipse</td>\n",
       "      <td>Sum.</td>\n",
       "      <td>300500000.0</td>\n",
       "      <td>398000000</td>\n",
       "      <td>2010</td>\n",
       "    </tr>\n",
       "    <tr>\n",
       "      <th>6</th>\n",
       "      <td>Iron Man 2</td>\n",
       "      <td>Par.</td>\n",
       "      <td>312400000.0</td>\n",
       "      <td>311500000</td>\n",
       "      <td>2010</td>\n",
       "    </tr>\n",
       "    <tr>\n",
       "      <th>7</th>\n",
       "      <td>Tangled</td>\n",
       "      <td>BV</td>\n",
       "      <td>200800000.0</td>\n",
       "      <td>391000000</td>\n",
       "      <td>2010</td>\n",
       "    </tr>\n",
       "    <tr>\n",
       "      <th>8</th>\n",
       "      <td>Despicable Me</td>\n",
       "      <td>Uni.</td>\n",
       "      <td>251500000.0</td>\n",
       "      <td>291600000</td>\n",
       "      <td>2010</td>\n",
       "    </tr>\n",
       "    <tr>\n",
       "      <th>9</th>\n",
       "      <td>How to Train Your Dragon</td>\n",
       "      <td>P/DW</td>\n",
       "      <td>217600000.0</td>\n",
       "      <td>277300000</td>\n",
       "      <td>2010</td>\n",
       "    </tr>\n",
       "  </tbody>\n",
       "</table>\n",
       "</div>"
      ],
      "text/plain": [
       "                                         title studio  domestic_gross  \\\n",
       "0                                  Toy Story 3     BV     415000000.0   \n",
       "1                   Alice in Wonderland (2010)     BV     334200000.0   \n",
       "2  Harry Potter and the Deathly Hallows Part 1     WB     296000000.0   \n",
       "3                                    Inception     WB     292600000.0   \n",
       "4                          Shrek Forever After   P/DW     238700000.0   \n",
       "5                   The Twilight Saga: Eclipse   Sum.     300500000.0   \n",
       "6                                   Iron Man 2   Par.     312400000.0   \n",
       "7                                      Tangled     BV     200800000.0   \n",
       "8                                Despicable Me   Uni.     251500000.0   \n",
       "9                     How to Train Your Dragon   P/DW     217600000.0   \n",
       "\n",
       "  foreign_gross  year  \n",
       "0     652000000  2010  \n",
       "1     691300000  2010  \n",
       "2     664300000  2010  \n",
       "3     535700000  2010  \n",
       "4     513900000  2010  \n",
       "5     398000000  2010  \n",
       "6     311500000  2010  \n",
       "7     391000000  2010  \n",
       "8     291600000  2010  \n",
       "9     277300000  2010  "
      ]
     },
     "execution_count": 19,
     "metadata": {},
     "output_type": "execute_result"
    }
   ],
   "source": [
    "df.head(10)"
   ]
  },
  {
   "cell_type": "code",
   "execution_count": null,
   "id": "3c81f1ac-69cf-467c-a92a-8980f6bd81d6",
   "metadata": {},
   "outputs": [],
   "source": []
  },
  {
   "cell_type": "code",
   "execution_count": 20,
   "id": "d2267cda-fd8b-4d7e-9116-2a46a740f79f",
   "metadata": {},
   "outputs": [
    {
     "data": {
      "text/html": [
       "<div>\n",
       "<style scoped>\n",
       "    .dataframe tbody tr th:only-of-type {\n",
       "        vertical-align: middle;\n",
       "    }\n",
       "\n",
       "    .dataframe tbody tr th {\n",
       "        vertical-align: top;\n",
       "    }\n",
       "\n",
       "    .dataframe thead th {\n",
       "        text-align: right;\n",
       "    }\n",
       "</style>\n",
       "<table border=\"1\" class=\"dataframe\">\n",
       "  <thead>\n",
       "    <tr style=\"text-align: right;\">\n",
       "      <th></th>\n",
       "      <th>title</th>\n",
       "      <th>studio</th>\n",
       "      <th>domestic_gross</th>\n",
       "      <th>foreign_gross</th>\n",
       "      <th>year</th>\n",
       "    </tr>\n",
       "  </thead>\n",
       "  <tbody>\n",
       "    <tr>\n",
       "      <th>3377</th>\n",
       "      <td>Let Yourself Go</td>\n",
       "      <td>Men.</td>\n",
       "      <td>12200.0</td>\n",
       "      <td>NaN</td>\n",
       "      <td>2018</td>\n",
       "    </tr>\n",
       "    <tr>\n",
       "      <th>3378</th>\n",
       "      <td>Hannah (2018)</td>\n",
       "      <td>PDF</td>\n",
       "      <td>11700.0</td>\n",
       "      <td>NaN</td>\n",
       "      <td>2018</td>\n",
       "    </tr>\n",
       "    <tr>\n",
       "      <th>3379</th>\n",
       "      <td>Souvenir</td>\n",
       "      <td>Strand</td>\n",
       "      <td>11400.0</td>\n",
       "      <td>NaN</td>\n",
       "      <td>2018</td>\n",
       "    </tr>\n",
       "    <tr>\n",
       "      <th>3380</th>\n",
       "      <td>Furious (Legend of Kolovrat)</td>\n",
       "      <td>CARUSEL</td>\n",
       "      <td>10000.0</td>\n",
       "      <td>NaN</td>\n",
       "      <td>2018</td>\n",
       "    </tr>\n",
       "    <tr>\n",
       "      <th>3381</th>\n",
       "      <td>Beauty and the Dogs</td>\n",
       "      <td>Osci.</td>\n",
       "      <td>8900.0</td>\n",
       "      <td>NaN</td>\n",
       "      <td>2018</td>\n",
       "    </tr>\n",
       "    <tr>\n",
       "      <th>3382</th>\n",
       "      <td>The Quake</td>\n",
       "      <td>Magn.</td>\n",
       "      <td>6200.0</td>\n",
       "      <td>NaN</td>\n",
       "      <td>2018</td>\n",
       "    </tr>\n",
       "    <tr>\n",
       "      <th>3383</th>\n",
       "      <td>Edward II (2018 re-release)</td>\n",
       "      <td>FM</td>\n",
       "      <td>4800.0</td>\n",
       "      <td>NaN</td>\n",
       "      <td>2018</td>\n",
       "    </tr>\n",
       "    <tr>\n",
       "      <th>3384</th>\n",
       "      <td>El Pacto</td>\n",
       "      <td>Sony</td>\n",
       "      <td>2500.0</td>\n",
       "      <td>NaN</td>\n",
       "      <td>2018</td>\n",
       "    </tr>\n",
       "    <tr>\n",
       "      <th>3385</th>\n",
       "      <td>The Swan</td>\n",
       "      <td>Synergetic</td>\n",
       "      <td>2400.0</td>\n",
       "      <td>NaN</td>\n",
       "      <td>2018</td>\n",
       "    </tr>\n",
       "    <tr>\n",
       "      <th>3386</th>\n",
       "      <td>An Actor Prepares</td>\n",
       "      <td>Grav.</td>\n",
       "      <td>1700.0</td>\n",
       "      <td>NaN</td>\n",
       "      <td>2018</td>\n",
       "    </tr>\n",
       "  </tbody>\n",
       "</table>\n",
       "</div>"
      ],
      "text/plain": [
       "                             title      studio  domestic_gross foreign_gross  \\\n",
       "3377               Let Yourself Go        Men.         12200.0           NaN   \n",
       "3378                 Hannah (2018)         PDF         11700.0           NaN   \n",
       "3379                      Souvenir      Strand         11400.0           NaN   \n",
       "3380  Furious (Legend of Kolovrat)     CARUSEL         10000.0           NaN   \n",
       "3381           Beauty and the Dogs       Osci.          8900.0           NaN   \n",
       "3382                     The Quake       Magn.          6200.0           NaN   \n",
       "3383   Edward II (2018 re-release)          FM          4800.0           NaN   \n",
       "3384                      El Pacto        Sony          2500.0           NaN   \n",
       "3385                      The Swan  Synergetic          2400.0           NaN   \n",
       "3386             An Actor Prepares       Grav.          1700.0           NaN   \n",
       "\n",
       "      year  \n",
       "3377  2018  \n",
       "3378  2018  \n",
       "3379  2018  \n",
       "3380  2018  \n",
       "3381  2018  \n",
       "3382  2018  \n",
       "3383  2018  \n",
       "3384  2018  \n",
       "3385  2018  \n",
       "3386  2018  "
      ]
     },
     "execution_count": 20,
     "metadata": {},
     "output_type": "execute_result"
    }
   ],
   "source": [
    "df.tail(10)"
   ]
  },
  {
   "cell_type": "code",
   "execution_count": 21,
   "id": "7742e1ce-e574-4e2b-a2f2-f94577425d4c",
   "metadata": {},
   "outputs": [
    {
     "data": {
      "text/plain": [
       "count    3.359000e+03\n",
       "mean     2.874585e+07\n",
       "std      6.698250e+07\n",
       "min      1.000000e+02\n",
       "25%      1.200000e+05\n",
       "50%      1.400000e+06\n",
       "75%      2.790000e+07\n",
       "max      9.367000e+08\n",
       "Name: domestic_gross, dtype: float64"
      ]
     },
     "execution_count": 21,
     "metadata": {},
     "output_type": "execute_result"
    }
   ],
   "source": [
    "df['domestic_gross'].describe()"
   ]
  },
  {
   "cell_type": "code",
   "execution_count": null,
   "id": "3e7c2da3-92e9-4200-8d77-1e42213ee949",
   "metadata": {},
   "outputs": [],
   "source": [
    "The average domestic_gross is  2.874585e+07\n",
    "28745850 dollars."
   ]
  },
  {
   "cell_type": "code",
   "execution_count": 22,
   "id": "16c2d502-5454-4305-986d-f0cd9aeef28d",
   "metadata": {},
   "outputs": [
    {
     "data": {
      "text/plain": [
       "Index(['title', 'studio', 'domestic_gross', 'foreign_gross', 'year'], dtype='object')"
      ]
     },
     "execution_count": 22,
     "metadata": {},
     "output_type": "execute_result"
    }
   ],
   "source": [
    "df.columns"
   ]
  },
  {
   "cell_type": "code",
   "execution_count": 23,
   "id": "70b23a52-8394-42ba-9460-adf9595363d3",
   "metadata": {},
   "outputs": [
    {
     "name": "stdout",
     "output_type": "stream",
     "text": [
      "No duplicates found.\n"
     ]
    }
   ],
   "source": [
    "duplicates = df[df.duplicated()]\n",
    "\n",
    "if duplicates.empty:\n",
    "    print(\"No duplicates found.\")\n",
    "else:\n",
    "    print(\"Duplicates found:\")\n",
    "    print(duplicates)"
   ]
  },
  {
   "cell_type": "code",
   "execution_count": 24,
   "id": "05eb7f0c-90e1-4180-8e9b-d17c1bbcadcf",
   "metadata": {},
   "outputs": [
    {
     "data": {
      "text/plain": [
       "title                0\n",
       "studio               5\n",
       "domestic_gross      28\n",
       "foreign_gross     1350\n",
       "year                 0\n",
       "dtype: int64"
      ]
     },
     "execution_count": 24,
     "metadata": {},
     "output_type": "execute_result"
    }
   ],
   "source": [
    "#checking on the missing values\n",
    "\n",
    "df.isna().sum()"
   ]
  },
  {
   "cell_type": "markdown",
   "id": "bd54efad-8be6-41af-9d43-d49e537d3278",
   "metadata": {},
   "source": [
    "The dataframe has missing values in the column cointaining foreign gross."
   ]
  },
  {
   "cell_type": "code",
   "execution_count": 25,
   "id": "e1fd0a92-89a9-4bf0-8b57-ad9c918e17cc",
   "metadata": {},
   "outputs": [
    {
     "name": "stdout",
     "output_type": "stream",
     "text": [
      "                                            title      studio  domestic_gross  \\\n",
      "0                                     Toy Story 3          BV     415000000.0   \n",
      "1                      Alice in Wonderland (2010)          BV     334200000.0   \n",
      "2     Harry Potter and the Deathly Hallows Part 1          WB     296000000.0   \n",
      "3                                       Inception          WB     292600000.0   \n",
      "4                             Shrek Forever After        P/DW     238700000.0   \n",
      "...                                           ...         ...             ...   \n",
      "3382                                    The Quake       Magn.          6200.0   \n",
      "3383                  Edward II (2018 re-release)          FM          4800.0   \n",
      "3384                                     El Pacto        Sony          2500.0   \n",
      "3385                                     The Swan  Synergetic          2400.0   \n",
      "3386                            An Actor Prepares       Grav.          1700.0   \n",
      "\n",
      "      year  \n",
      "0     2010  \n",
      "1     2010  \n",
      "2     2010  \n",
      "3     2010  \n",
      "4     2010  \n",
      "...    ...  \n",
      "3382  2018  \n",
      "3383  2018  \n",
      "3384  2018  \n",
      "3385  2018  \n",
      "3386  2018  \n",
      "\n",
      "[3387 rows x 4 columns]\n"
     ]
    }
   ],
   "source": [
    "#remove the column foreign gross\n",
    "column_to_remove = 'foreign_gross'\n",
    "\n",
    "# Removing the column\n",
    "df = df.drop(column_to_remove, axis=1)\n",
    "\n",
    "# Displaying the DataFrame after removing the column\n",
    "print(df)"
   ]
  },
  {
   "cell_type": "code",
   "execution_count": 26,
   "id": "369bae1e-ccd4-4a0d-9752-4c05d7f52ed4",
   "metadata": {},
   "outputs": [
    {
     "data": {
      "text/plain": [
       "<bound method Series.max of 0       415000000.0\n",
       "1       334200000.0\n",
       "2       296000000.0\n",
       "3       292600000.0\n",
       "4       238700000.0\n",
       "           ...     \n",
       "3382         6200.0\n",
       "3383         4800.0\n",
       "3384         2500.0\n",
       "3385         2400.0\n",
       "3386         1700.0\n",
       "Name: domestic_gross, Length: 3387, dtype: float64>"
      ]
     },
     "execution_count": 26,
     "metadata": {},
     "output_type": "execute_result"
    }
   ],
   "source": [
    "df['domestic_gross'].max"
   ]
  },
  {
   "cell_type": "code",
   "execution_count": 27,
   "id": "5d213897-42d2-4b40-8769-83a261d5b48a",
   "metadata": {},
   "outputs": [
    {
     "name": "stdout",
     "output_type": "stream",
     "text": [
      "Title of the movie with maximum domestic gross: Star Wars: The Force Awakens\n"
     ]
    }
   ],
   "source": [
    "max_domestic_gross_index = df['domestic_gross'].idxmax()\n",
    "\n",
    "# Extract the title using the index\n",
    "title_of_max_gross_movie = df.loc[max_domestic_gross_index, 'title']\n",
    "\n",
    "# Print the title\n",
    "print(\"Title of the movie with maximum domestic gross:\", title_of_max_gross_movie)"
   ]
  },
  {
   "cell_type": "code",
   "execution_count": null,
   "id": "9e301c25-6fbc-43e7-aec4-bdbd376fb238",
   "metadata": {},
   "outputs": [],
   "source": []
  },
  {
   "cell_type": "code",
   "execution_count": 28,
   "id": "6d342f1f-5955-48d1-9086-bd5f25e2d4ed",
   "metadata": {},
   "outputs": [
    {
     "data": {
      "image/png": "[encoded data removed]",
      "text/plain": [
       "<Figure size 800x600 with 1 Axes>"
      ]
     },
     "metadata": {},
     "output_type": "display_data"
    }
   ],
   "source": [
    "import matplotlib.pyplot as plt\n",
    "\n",
    "# Sample data\n",
    "data = df['domestic_gross']\n",
    "\n",
    "\n",
    "# Calculate quartiles\n",
    "Q1 = min(data)\n",
    "Q3 = max(data)\n",
    "IQR = Q3 - Q1\n",
    "\n",
    "# Create the plot\n",
    "plt.figure(figsize=(8, 6))\n",
    "plt.plot([Q1, Q1], [0, 1], 'r--', label='Q1')\n",
    "plt.plot([Q3, Q3], [0, 1], 'r--', label='Q3')\n",
    "plt.plot([Q1 - 1.5*IQR, Q3 + 1.5*IQR], [0.5, 0.5], 'b-', label='IQR', linewidth=2)\n",
    "plt.xlim(Q1 - 2*IQR, Q3 + 2*IQR)\n",
    "plt.ylim(0, 1)\n",
    "plt.xlabel('Value')\n",
    "plt.title('Interquartile Range (IQR) Plot')\n",
    "plt.legend()\n",
    "plt.grid(True)\n",
    "plt.show()\n",
    "#checking for outliers in the data."
   ]
  },
  {
   "cell_type": "markdown",
   "id": "31fe58b1-5eb8-4355-b7b2-764397395c13",
   "metadata": {},
   "source": [
    "The data set three."
   ]
  },
  {
   "cell_type": "code",
   "execution_count": 29,
   "id": "6c3055f1-c311-48ee-95cb-03e4960dc0da",
   "metadata": {},
   "outputs": [
    {
     "name": "stdout",
     "output_type": "stream",
     "text": [
      "            name\n",
      "0   movie_basics\n",
      "1      directors\n",
      "2      known_for\n",
      "3     movie_akas\n",
      "4  movie_ratings\n",
      "5        persons\n",
      "6     principals\n",
      "7        writers\n"
     ]
    }
   ],
   "source": [
    "import pandas as pd\n",
    "import sqlite3\n",
    "conn =sqlite3.connect('im.db')\n",
    "query = \"SELECT name FROM sqlite_master WHERE type='table';\"\n",
    "table_names = pd.read_sql(query, conn)\n",
    "print(table_names)\n"
   ]
  },
  {
   "cell_type": "code",
   "execution_count": 30,
   "id": "d4588891-3df3-407d-9e66-0f93e881284d",
   "metadata": {},
   "outputs": [
    {
     "data": {
      "text/plain": [
       "pandas.core.frame.DataFrame"
      ]
     },
     "execution_count": 30,
     "metadata": {},
     "output_type": "execute_result"
    }
   ],
   "source": [
    "type(table_names)"
   ]
  },
  {
   "cell_type": "markdown",
   "id": "915c225b-e1c5-404f-88f9-7834b2782ea7",
   "metadata": {},
   "source": [
    "Data understanding."
   ]
  },
  {
   "cell_type": "code",
   "execution_count": 31,
   "id": "5ba749c4-ae43-4a46-9773-c39c5e3ccd7b",
   "metadata": {},
   "outputs": [
    {
     "data": {
      "text/html": [
       "<div>\n",
       "<style scoped>\n",
       "    .dataframe tbody tr th:only-of-type {\n",
       "        vertical-align: middle;\n",
       "    }\n",
       "\n",
       "    .dataframe tbody tr th {\n",
       "        vertical-align: top;\n",
       "    }\n",
       "\n",
       "    .dataframe thead th {\n",
       "        text-align: right;\n",
       "    }\n",
       "</style>\n",
       "<table border=\"1\" class=\"dataframe\">\n",
       "  <thead>\n",
       "    <tr style=\"text-align: right;\">\n",
       "      <th></th>\n",
       "      <th>movie_id</th>\n",
       "      <th>person_id</th>\n",
       "    </tr>\n",
       "  </thead>\n",
       "  <tbody>\n",
       "    <tr>\n",
       "      <th>0</th>\n",
       "      <td>tt0285252</td>\n",
       "      <td>nm0899854</td>\n",
       "    </tr>\n",
       "    <tr>\n",
       "      <th>1</th>\n",
       "      <td>tt0462036</td>\n",
       "      <td>nm1940585</td>\n",
       "    </tr>\n",
       "    <tr>\n",
       "      <th>2</th>\n",
       "      <td>tt0835418</td>\n",
       "      <td>nm0151540</td>\n",
       "    </tr>\n",
       "    <tr>\n",
       "      <th>3</th>\n",
       "      <td>tt0835418</td>\n",
       "      <td>nm0151540</td>\n",
       "    </tr>\n",
       "    <tr>\n",
       "      <th>4</th>\n",
       "      <td>tt0878654</td>\n",
       "      <td>nm0089502</td>\n",
       "    </tr>\n",
       "    <tr>\n",
       "      <th>...</th>\n",
       "      <td>...</td>\n",
       "      <td>...</td>\n",
       "    </tr>\n",
       "    <tr>\n",
       "      <th>291169</th>\n",
       "      <td>tt8999974</td>\n",
       "      <td>nm10122357</td>\n",
       "    </tr>\n",
       "    <tr>\n",
       "      <th>291170</th>\n",
       "      <td>tt9001390</td>\n",
       "      <td>nm6711477</td>\n",
       "    </tr>\n",
       "    <tr>\n",
       "      <th>291171</th>\n",
       "      <td>tt9001494</td>\n",
       "      <td>nm10123242</td>\n",
       "    </tr>\n",
       "    <tr>\n",
       "      <th>291172</th>\n",
       "      <td>tt9001494</td>\n",
       "      <td>nm10123248</td>\n",
       "    </tr>\n",
       "    <tr>\n",
       "      <th>291173</th>\n",
       "      <td>tt9004986</td>\n",
       "      <td>nm4993825</td>\n",
       "    </tr>\n",
       "  </tbody>\n",
       "</table>\n",
       "<p>291174 rows × 2 columns</p>\n",
       "</div>"
      ],
      "text/plain": [
       "         movie_id   person_id\n",
       "0       tt0285252   nm0899854\n",
       "1       tt0462036   nm1940585\n",
       "2       tt0835418   nm0151540\n",
       "3       tt0835418   nm0151540\n",
       "4       tt0878654   nm0089502\n",
       "...           ...         ...\n",
       "291169  tt8999974  nm10122357\n",
       "291170  tt9001390   nm6711477\n",
       "291171  tt9001494  nm10123242\n",
       "291172  tt9001494  nm10123248\n",
       "291173  tt9004986   nm4993825\n",
       "\n",
       "[291174 rows x 2 columns]"
      ]
     },
     "execution_count": 31,
     "metadata": {},
     "output_type": "execute_result"
    }
   ],
   "source": [
    "pd.read_sql(\"SELECT * FROM directors ;\", conn)"
   ]
  },
  {
   "cell_type": "code",
   "execution_count": 32,
   "id": "d801d641-0d1b-46d0-a4ef-afe24ce6fbee",
   "metadata": {},
   "outputs": [
    {
     "data": {
      "text/html": [
       "<div>\n",
       "<style scoped>\n",
       "    .dataframe tbody tr th:only-of-type {\n",
       "        vertical-align: middle;\n",
       "    }\n",
       "\n",
       "    .dataframe tbody tr th {\n",
       "        vertical-align: top;\n",
       "    }\n",
       "\n",
       "    .dataframe thead th {\n",
       "        text-align: right;\n",
       "    }\n",
       "</style>\n",
       "<table border=\"1\" class=\"dataframe\">\n",
       "  <thead>\n",
       "    <tr style=\"text-align: right;\">\n",
       "      <th></th>\n",
       "      <th>movie_id</th>\n",
       "      <th>primary_title</th>\n",
       "      <th>original_title</th>\n",
       "      <th>start_year</th>\n",
       "      <th>runtime_minutes</th>\n",
       "      <th>genres</th>\n",
       "    </tr>\n",
       "  </thead>\n",
       "  <tbody>\n",
       "    <tr>\n",
       "      <th>0</th>\n",
       "      <td>tt0063540</td>\n",
       "      <td>Sunghursh</td>\n",
       "      <td>Sunghursh</td>\n",
       "      <td>2013</td>\n",
       "      <td>175.0</td>\n",
       "      <td>Action,Crime,Drama</td>\n",
       "    </tr>\n",
       "    <tr>\n",
       "      <th>1</th>\n",
       "      <td>tt0066787</td>\n",
       "      <td>One Day Before the Rainy Season</td>\n",
       "      <td>Ashad Ka Ek Din</td>\n",
       "      <td>2019</td>\n",
       "      <td>114.0</td>\n",
       "      <td>Biography,Drama</td>\n",
       "    </tr>\n",
       "    <tr>\n",
       "      <th>2</th>\n",
       "      <td>tt0069049</td>\n",
       "      <td>The Other Side of the Wind</td>\n",
       "      <td>The Other Side of the Wind</td>\n",
       "      <td>2018</td>\n",
       "      <td>122.0</td>\n",
       "      <td>Drama</td>\n",
       "    </tr>\n",
       "    <tr>\n",
       "      <th>3</th>\n",
       "      <td>tt0069204</td>\n",
       "      <td>Sabse Bada Sukh</td>\n",
       "      <td>Sabse Bada Sukh</td>\n",
       "      <td>2018</td>\n",
       "      <td>NaN</td>\n",
       "      <td>Comedy,Drama</td>\n",
       "    </tr>\n",
       "    <tr>\n",
       "      <th>4</th>\n",
       "      <td>tt0100275</td>\n",
       "      <td>The Wandering Soap Opera</td>\n",
       "      <td>La Telenovela Errante</td>\n",
       "      <td>2017</td>\n",
       "      <td>80.0</td>\n",
       "      <td>Comedy,Drama,Fantasy</td>\n",
       "    </tr>\n",
       "    <tr>\n",
       "      <th>...</th>\n",
       "      <td>...</td>\n",
       "      <td>...</td>\n",
       "      <td>...</td>\n",
       "      <td>...</td>\n",
       "      <td>...</td>\n",
       "      <td>...</td>\n",
       "    </tr>\n",
       "    <tr>\n",
       "      <th>146139</th>\n",
       "      <td>tt9916538</td>\n",
       "      <td>Kuambil Lagi Hatiku</td>\n",
       "      <td>Kuambil Lagi Hatiku</td>\n",
       "      <td>2019</td>\n",
       "      <td>123.0</td>\n",
       "      <td>Drama</td>\n",
       "    </tr>\n",
       "    <tr>\n",
       "      <th>146140</th>\n",
       "      <td>tt9916622</td>\n",
       "      <td>Rodolpho Teóphilo - O Legado de um Pioneiro</td>\n",
       "      <td>Rodolpho Teóphilo - O Legado de um Pioneiro</td>\n",
       "      <td>2015</td>\n",
       "      <td>NaN</td>\n",
       "      <td>Documentary</td>\n",
       "    </tr>\n",
       "    <tr>\n",
       "      <th>146141</th>\n",
       "      <td>tt9916706</td>\n",
       "      <td>Dankyavar Danka</td>\n",
       "      <td>Dankyavar Danka</td>\n",
       "      <td>2013</td>\n",
       "      <td>NaN</td>\n",
       "      <td>Comedy</td>\n",
       "    </tr>\n",
       "    <tr>\n",
       "      <th>146142</th>\n",
       "      <td>tt9916730</td>\n",
       "      <td>6 Gunn</td>\n",
       "      <td>6 Gunn</td>\n",
       "      <td>2017</td>\n",
       "      <td>116.0</td>\n",
       "      <td>None</td>\n",
       "    </tr>\n",
       "    <tr>\n",
       "      <th>146143</th>\n",
       "      <td>tt9916754</td>\n",
       "      <td>Chico Albuquerque - Revelações</td>\n",
       "      <td>Chico Albuquerque - Revelações</td>\n",
       "      <td>2013</td>\n",
       "      <td>NaN</td>\n",
       "      <td>Documentary</td>\n",
       "    </tr>\n",
       "  </tbody>\n",
       "</table>\n",
       "<p>146144 rows × 6 columns</p>\n",
       "</div>"
      ],
      "text/plain": [
       "         movie_id                                primary_title  \\\n",
       "0       tt0063540                                    Sunghursh   \n",
       "1       tt0066787              One Day Before the Rainy Season   \n",
       "2       tt0069049                   The Other Side of the Wind   \n",
       "3       tt0069204                              Sabse Bada Sukh   \n",
       "4       tt0100275                     The Wandering Soap Opera   \n",
       "...           ...                                          ...   \n",
       "146139  tt9916538                          Kuambil Lagi Hatiku   \n",
       "146140  tt9916622  Rodolpho Teóphilo - O Legado de um Pioneiro   \n",
       "146141  tt9916706                              Dankyavar Danka   \n",
       "146142  tt9916730                                       6 Gunn   \n",
       "146143  tt9916754               Chico Albuquerque - Revelações   \n",
       "\n",
       "                                     original_title  start_year  \\\n",
       "0                                         Sunghursh        2013   \n",
       "1                                   Ashad Ka Ek Din        2019   \n",
       "2                        The Other Side of the Wind        2018   \n",
       "3                                   Sabse Bada Sukh        2018   \n",
       "4                             La Telenovela Errante        2017   \n",
       "...                                             ...         ...   \n",
       "146139                          Kuambil Lagi Hatiku        2019   \n",
       "146140  Rodolpho Teóphilo - O Legado de um Pioneiro        2015   \n",
       "146141                              Dankyavar Danka        2013   \n",
       "146142                                       6 Gunn        2017   \n",
       "146143               Chico Albuquerque - Revelações        2013   \n",
       "\n",
       "        runtime_minutes                genres  \n",
       "0                 175.0    Action,Crime,Drama  \n",
       "1                 114.0       Biography,Drama  \n",
       "2                 122.0                 Drama  \n",
       "3                   NaN          Comedy,Drama  \n",
       "4                  80.0  Comedy,Drama,Fantasy  \n",
       "...                 ...                   ...  \n",
       "146139            123.0                 Drama  \n",
       "146140              NaN           Documentary  \n",
       "146141              NaN                Comedy  \n",
       "146142            116.0                  None  \n",
       "146143              NaN           Documentary  \n",
       "\n",
       "[146144 rows x 6 columns]"
      ]
     },
     "execution_count": 32,
     "metadata": {},
     "output_type": "execute_result"
    }
   ],
   "source": [
    "pd.read_sql(\"SELECT * FROM movie_basics ;\", conn)"
   ]
  },
  {
   "cell_type": "code",
   "execution_count": 61,
   "id": "bcfd88a3-dd67-4153-91e6-8a84ae40f01c",
   "metadata": {},
   "outputs": [
    {
     "name": "stdout",
     "output_type": "stream",
     "text": [
      "        runtime_minutes\n",
      "0                 175.0\n",
      "1                 114.0\n",
      "2                 122.0\n",
      "3                   NaN\n",
      "4                  80.0\n",
      "...                 ...\n",
      "146139            123.0\n",
      "146140              NaN\n",
      "146141              NaN\n",
      "146142            116.0\n",
      "146143              NaN\n",
      "\n",
      "[146144 rows x 1 columns]\n"
     ]
    },
    {
     "data": {
      "text/html": [
       "<div>\n",
       "<style scoped>\n",
       "    .dataframe tbody tr th:only-of-type {\n",
       "        vertical-align: middle;\n",
       "    }\n",
       "\n",
       "    .dataframe tbody tr th {\n",
       "        vertical-align: top;\n",
       "    }\n",
       "\n",
       "    .dataframe thead th {\n",
       "        text-align: right;\n",
       "    }\n",
       "</style>\n",
       "<table border=\"1\" class=\"dataframe\">\n",
       "  <thead>\n",
       "    <tr style=\"text-align: right;\">\n",
       "      <th></th>\n",
       "      <th>runtime_minutes</th>\n",
       "    </tr>\n",
       "  </thead>\n",
       "  <tbody>\n",
       "    <tr>\n",
       "      <th>count</th>\n",
       "      <td>114405.000000</td>\n",
       "    </tr>\n",
       "    <tr>\n",
       "      <th>mean</th>\n",
       "      <td>86.187247</td>\n",
       "    </tr>\n",
       "    <tr>\n",
       "      <th>std</th>\n",
       "      <td>166.360590</td>\n",
       "    </tr>\n",
       "    <tr>\n",
       "      <th>min</th>\n",
       "      <td>1.000000</td>\n",
       "    </tr>\n",
       "    <tr>\n",
       "      <th>25%</th>\n",
       "      <td>70.000000</td>\n",
       "    </tr>\n",
       "    <tr>\n",
       "      <th>50%</th>\n",
       "      <td>87.000000</td>\n",
       "    </tr>\n",
       "    <tr>\n",
       "      <th>75%</th>\n",
       "      <td>99.000000</td>\n",
       "    </tr>\n",
       "    <tr>\n",
       "      <th>max</th>\n",
       "      <td>51420.000000</td>\n",
       "    </tr>\n",
       "  </tbody>\n",
       "</table>\n",
       "</div>"
      ],
      "text/plain": [
       "       runtime_minutes\n",
       "count    114405.000000\n",
       "mean         86.187247\n",
       "std         166.360590\n",
       "min           1.000000\n",
       "25%          70.000000\n",
       "50%          87.000000\n",
       "75%          99.000000\n",
       "max       51420.000000"
      ]
     },
     "execution_count": 61,
     "metadata": {},
     "output_type": "execute_result"
    }
   ],
   "source": [
    "#checking the runtime and the average runtime,\n",
    "pd.read_sql(\"SELECT  runtime_minutes FROM movie_basics ;\", conn)\n",
    "print(runtime)\n",
    "pd.read_sql(\"SELECT  runtime_minutes FROM movie_basics ;\", conn).describe()"
   ]
  },
  {
   "cell_type": "markdown",
   "id": "55442dc4-2cc3-4e76-a958-75770afceb30",
   "metadata": {},
   "source": [
    "The averge runtime_minutes  of the movies is 86.187247.\n",
    "We Will later use it."
   ]
  },
  {
   "cell_type": "code",
   "execution_count": 34,
   "id": "dbd314c1-8e61-42dd-be8d-ed92ba5eff4d",
   "metadata": {},
   "outputs": [
    {
     "name": "stdout",
     "output_type": "stream",
     "text": [
      "     runtime_minutes  number_of_movies\n",
      "0                NaN             31739\n",
      "1                1.0                17\n",
      "2                2.0                44\n",
      "3                3.0                84\n",
      "4                4.0               130\n",
      "..               ...               ...\n",
      "363           5460.0                 1\n",
      "364           6000.0                 1\n",
      "365           6017.0                 1\n",
      "366          14400.0                 1\n",
      "367          51420.0                 1\n",
      "\n",
      "[368 rows x 2 columns]\n"
     ]
    }
   ],
   "source": [
    "sql_query = \"\"\"\n",
    "            SELECT runtime_minutes, COUNT(*) AS number_of_movies\n",
    "            FROM movie_basics\n",
    "            GROUP BY runtime_minutes\n",
    "            \n",
    "            \n",
    "            \"\"\"\n",
    "df_movies_by_length = pd.read_sql(sql_query, conn)\n",
    "\n",
    "# Display the resulting DataFrame\n",
    "print(df_movies_by_length)\n"
   ]
  },
  {
   "cell_type": "markdown",
   "id": "39818195-38c7-484a-8859-e33fdd807375",
   "metadata": {},
   "source": [
    "Cool, we have the number of movies against their runtime minutes!"
   ]
  },
  {
   "cell_type": "code",
   "execution_count": null,
   "id": "56aeee41-154e-4061-bddf-c871e5ed36ac",
   "metadata": {},
   "outputs": [],
   "source": []
  },
  {
   "cell_type": "code",
   "execution_count": 35,
   "id": "8f0cd355-60ed-4d91-83d7-e6f6ce88d35f",
   "metadata": {},
   "outputs": [
    {
     "data": {
      "text/html": [
       "<div>\n",
       "<style scoped>\n",
       "    .dataframe tbody tr th:only-of-type {\n",
       "        vertical-align: middle;\n",
       "    }\n",
       "\n",
       "    .dataframe tbody tr th {\n",
       "        vertical-align: top;\n",
       "    }\n",
       "\n",
       "    .dataframe thead th {\n",
       "        text-align: right;\n",
       "    }\n",
       "</style>\n",
       "<table border=\"1\" class=\"dataframe\">\n",
       "  <thead>\n",
       "    <tr style=\"text-align: right;\">\n",
       "      <th></th>\n",
       "      <th>person_id</th>\n",
       "      <th>movie_id</th>\n",
       "    </tr>\n",
       "  </thead>\n",
       "  <tbody>\n",
       "    <tr>\n",
       "      <th>0</th>\n",
       "      <td>nm0061671</td>\n",
       "      <td>tt0837562</td>\n",
       "    </tr>\n",
       "    <tr>\n",
       "      <th>1</th>\n",
       "      <td>nm0061671</td>\n",
       "      <td>tt2398241</td>\n",
       "    </tr>\n",
       "    <tr>\n",
       "      <th>2</th>\n",
       "      <td>nm0061671</td>\n",
       "      <td>tt0844471</td>\n",
       "    </tr>\n",
       "    <tr>\n",
       "      <th>3</th>\n",
       "      <td>nm0061671</td>\n",
       "      <td>tt0118553</td>\n",
       "    </tr>\n",
       "    <tr>\n",
       "      <th>4</th>\n",
       "      <td>nm0061865</td>\n",
       "      <td>tt0896534</td>\n",
       "    </tr>\n",
       "    <tr>\n",
       "      <th>...</th>\n",
       "      <td>...</td>\n",
       "      <td>...</td>\n",
       "    </tr>\n",
       "    <tr>\n",
       "      <th>1638255</th>\n",
       "      <td>nm9990690</td>\n",
       "      <td>tt9090932</td>\n",
       "    </tr>\n",
       "    <tr>\n",
       "      <th>1638256</th>\n",
       "      <td>nm9990690</td>\n",
       "      <td>tt8737130</td>\n",
       "    </tr>\n",
       "    <tr>\n",
       "      <th>1638257</th>\n",
       "      <td>nm9991320</td>\n",
       "      <td>tt8734436</td>\n",
       "    </tr>\n",
       "    <tr>\n",
       "      <th>1638258</th>\n",
       "      <td>nm9991320</td>\n",
       "      <td>tt9615610</td>\n",
       "    </tr>\n",
       "    <tr>\n",
       "      <th>1638259</th>\n",
       "      <td>nm9993380</td>\n",
       "      <td>tt8743182</td>\n",
       "    </tr>\n",
       "  </tbody>\n",
       "</table>\n",
       "<p>1638260 rows × 2 columns</p>\n",
       "</div>"
      ],
      "text/plain": [
       "         person_id   movie_id\n",
       "0        nm0061671  tt0837562\n",
       "1        nm0061671  tt2398241\n",
       "2        nm0061671  tt0844471\n",
       "3        nm0061671  tt0118553\n",
       "4        nm0061865  tt0896534\n",
       "...            ...        ...\n",
       "1638255  nm9990690  tt9090932\n",
       "1638256  nm9990690  tt8737130\n",
       "1638257  nm9991320  tt8734436\n",
       "1638258  nm9991320  tt9615610\n",
       "1638259  nm9993380  tt8743182\n",
       "\n",
       "[1638260 rows x 2 columns]"
      ]
     },
     "execution_count": 35,
     "metadata": {},
     "output_type": "execute_result"
    }
   ],
   "source": [
    "pd.read_sql(\"SELECT * FROM known_for ;\", conn)"
   ]
  },
  {
   "cell_type": "code",
   "execution_count": 107,
   "id": "1d2e488e-17ca-4e16-9923-1ec774dacb51",
   "metadata": {},
   "outputs": [
    {
     "data": {
      "text/html": [
       "<div>\n",
       "<style scoped>\n",
       "    .dataframe tbody tr th:only-of-type {\n",
       "        vertical-align: middle;\n",
       "    }\n",
       "\n",
       "    .dataframe tbody tr th {\n",
       "        vertical-align: top;\n",
       "    }\n",
       "\n",
       "    .dataframe thead th {\n",
       "        text-align: right;\n",
       "    }\n",
       "</style>\n",
       "<table border=\"1\" class=\"dataframe\">\n",
       "  <thead>\n",
       "    <tr style=\"text-align: right;\">\n",
       "      <th></th>\n",
       "      <th>movie_id</th>\n",
       "      <th>ordering</th>\n",
       "      <th>title</th>\n",
       "      <th>region</th>\n",
       "      <th>language</th>\n",
       "      <th>types</th>\n",
       "      <th>attributes</th>\n",
       "      <th>is_original_title</th>\n",
       "    </tr>\n",
       "  </thead>\n",
       "  <tbody>\n",
       "    <tr>\n",
       "      <th>0</th>\n",
       "      <td>tt0369610</td>\n",
       "      <td>10</td>\n",
       "      <td>Джурасик свят</td>\n",
       "      <td>BG</td>\n",
       "      <td>bg</td>\n",
       "      <td>None</td>\n",
       "      <td>None</td>\n",
       "      <td>0.0</td>\n",
       "    </tr>\n",
       "    <tr>\n",
       "      <th>1</th>\n",
       "      <td>tt0369610</td>\n",
       "      <td>11</td>\n",
       "      <td>Jurashikku warudo</td>\n",
       "      <td>JP</td>\n",
       "      <td>None</td>\n",
       "      <td>imdbDisplay</td>\n",
       "      <td>None</td>\n",
       "      <td>0.0</td>\n",
       "    </tr>\n",
       "    <tr>\n",
       "      <th>2</th>\n",
       "      <td>tt0369610</td>\n",
       "      <td>12</td>\n",
       "      <td>Jurassic World: O Mundo dos Dinossauros</td>\n",
       "      <td>BR</td>\n",
       "      <td>None</td>\n",
       "      <td>imdbDisplay</td>\n",
       "      <td>None</td>\n",
       "      <td>0.0</td>\n",
       "    </tr>\n",
       "    <tr>\n",
       "      <th>3</th>\n",
       "      <td>tt0369610</td>\n",
       "      <td>13</td>\n",
       "      <td>O Mundo dos Dinossauros</td>\n",
       "      <td>BR</td>\n",
       "      <td>None</td>\n",
       "      <td>None</td>\n",
       "      <td>short title</td>\n",
       "      <td>0.0</td>\n",
       "    </tr>\n",
       "    <tr>\n",
       "      <th>4</th>\n",
       "      <td>tt0369610</td>\n",
       "      <td>14</td>\n",
       "      <td>Jurassic World</td>\n",
       "      <td>FR</td>\n",
       "      <td>None</td>\n",
       "      <td>imdbDisplay</td>\n",
       "      <td>None</td>\n",
       "      <td>0.0</td>\n",
       "    </tr>\n",
       "    <tr>\n",
       "      <th>...</th>\n",
       "      <td>...</td>\n",
       "      <td>...</td>\n",
       "      <td>...</td>\n",
       "      <td>...</td>\n",
       "      <td>...</td>\n",
       "      <td>...</td>\n",
       "      <td>...</td>\n",
       "      <td>...</td>\n",
       "    </tr>\n",
       "    <tr>\n",
       "      <th>331698</th>\n",
       "      <td>tt9827784</td>\n",
       "      <td>2</td>\n",
       "      <td>Sayonara kuchibiru</td>\n",
       "      <td>None</td>\n",
       "      <td>None</td>\n",
       "      <td>original</td>\n",
       "      <td>None</td>\n",
       "      <td>1.0</td>\n",
       "    </tr>\n",
       "    <tr>\n",
       "      <th>331699</th>\n",
       "      <td>tt9827784</td>\n",
       "      <td>3</td>\n",
       "      <td>Farewell Song</td>\n",
       "      <td>XWW</td>\n",
       "      <td>en</td>\n",
       "      <td>imdbDisplay</td>\n",
       "      <td>None</td>\n",
       "      <td>0.0</td>\n",
       "    </tr>\n",
       "    <tr>\n",
       "      <th>331700</th>\n",
       "      <td>tt9880178</td>\n",
       "      <td>1</td>\n",
       "      <td>La atención</td>\n",
       "      <td>None</td>\n",
       "      <td>None</td>\n",
       "      <td>original</td>\n",
       "      <td>None</td>\n",
       "      <td>1.0</td>\n",
       "    </tr>\n",
       "    <tr>\n",
       "      <th>331701</th>\n",
       "      <td>tt9880178</td>\n",
       "      <td>2</td>\n",
       "      <td>La atención</td>\n",
       "      <td>ES</td>\n",
       "      <td>None</td>\n",
       "      <td>None</td>\n",
       "      <td>None</td>\n",
       "      <td>0.0</td>\n",
       "    </tr>\n",
       "    <tr>\n",
       "      <th>331702</th>\n",
       "      <td>tt9880178</td>\n",
       "      <td>3</td>\n",
       "      <td>The Attention</td>\n",
       "      <td>XWW</td>\n",
       "      <td>en</td>\n",
       "      <td>imdbDisplay</td>\n",
       "      <td>None</td>\n",
       "      <td>0.0</td>\n",
       "    </tr>\n",
       "  </tbody>\n",
       "</table>\n",
       "<p>331703 rows × 8 columns</p>\n",
       "</div>"
      ],
      "text/plain": [
       "         movie_id  ordering                                    title region  \\\n",
       "0       tt0369610        10                            Джурасик свят     BG   \n",
       "1       tt0369610        11                        Jurashikku warudo     JP   \n",
       "2       tt0369610        12  Jurassic World: O Mundo dos Dinossauros     BR   \n",
       "3       tt0369610        13                  O Mundo dos Dinossauros     BR   \n",
       "4       tt0369610        14                           Jurassic World     FR   \n",
       "...           ...       ...                                      ...    ...   \n",
       "331698  tt9827784         2                       Sayonara kuchibiru   None   \n",
       "331699  tt9827784         3                            Farewell Song    XWW   \n",
       "331700  tt9880178         1                              La atención   None   \n",
       "331701  tt9880178         2                              La atención     ES   \n",
       "331702  tt9880178         3                            The Attention    XWW   \n",
       "\n",
       "       language        types   attributes  is_original_title  \n",
       "0            bg         None         None                0.0  \n",
       "1          None  imdbDisplay         None                0.0  \n",
       "2          None  imdbDisplay         None                0.0  \n",
       "3          None         None  short title                0.0  \n",
       "4          None  imdbDisplay         None                0.0  \n",
       "...         ...          ...          ...                ...  \n",
       "331698     None     original         None                1.0  \n",
       "331699       en  imdbDisplay         None                0.0  \n",
       "331700     None     original         None                1.0  \n",
       "331701     None         None         None                0.0  \n",
       "331702       en  imdbDisplay         None                0.0  \n",
       "\n",
       "[331703 rows x 8 columns]"
      ]
     },
     "execution_count": 107,
     "metadata": {},
     "output_type": "execute_result"
    }
   ],
   "source": [
    "pd.read_sql(\"SELECT * FROM movie_akas;\", conn)"
   ]
  },
  {
   "cell_type": "code",
   "execution_count": 37,
   "id": "7d543b6c-4ec6-4a2f-b255-5668b1c7af4a",
   "metadata": {},
   "outputs": [
    {
     "name": "stdout",
     "output_type": "stream",
     "text": [
      "  region  num_movies\n",
      "0   None       53293\n",
      "1     US       51490\n",
      "2    XWW       18467\n",
      "3     RU       13817\n",
      "4     DE       11634\n",
      "5     FR       10990\n",
      "6     ES        9007\n",
      "7     GB        8942\n",
      "8     CA        8871\n",
      "9     PL        8691\n"
     ]
    }
   ],
   "source": [
    "       \n",
    "sql_query = \"\"\"\n",
    "            SELECT region, COUNT(*) AS num_movies\n",
    "            FROM movie_akas\n",
    "            GROUP BY region\n",
    "            ORDER BY num_movies DESC\n",
    "            LIMIT 10;\n",
    "            \"\"\"\n",
    "\n",
    "# Execute the SQL query and read the result into a DataFrame\n",
    "df_movies_by_region = pd.read_sql(sql_query, conn)\n",
    "\n",
    "# Display the resulting DataFrame\n",
    "print(df_movies_by_region)\n"
   ]
  },
  {
   "cell_type": "markdown",
   "id": "7ac49af6-9f75-41dd-949d-c7f0eecbd79c",
   "metadata": {},
   "source": [
    "US is highest in rank for the movies watched."
   ]
  },
  {
   "cell_type": "code",
   "execution_count": null,
   "id": "b491edf0-b58f-49c3-9e49-2be3c432447e",
   "metadata": {},
   "outputs": [],
   "source": [
    "This gives insight unto the audience that Microsift should most concentrate on.\n",
    "The best consumers of the movies are USA ."
   ]
  },
  {
   "cell_type": "code",
   "execution_count": 38,
   "id": "b1b64498-baf3-4006-827a-4c3aaafda0b2",
   "metadata": {},
   "outputs": [
    {
     "data": {
      "text/html": [
       "<div>\n",
       "<style scoped>\n",
       "    .dataframe tbody tr th:only-of-type {\n",
       "        vertical-align: middle;\n",
       "    }\n",
       "\n",
       "    .dataframe tbody tr th {\n",
       "        vertical-align: top;\n",
       "    }\n",
       "\n",
       "    .dataframe thead th {\n",
       "        text-align: right;\n",
       "    }\n",
       "</style>\n",
       "<table border=\"1\" class=\"dataframe\">\n",
       "  <thead>\n",
       "    <tr style=\"text-align: right;\">\n",
       "      <th></th>\n",
       "      <th>movie_id</th>\n",
       "      <th>averagerating</th>\n",
       "      <th>numvotes</th>\n",
       "    </tr>\n",
       "  </thead>\n",
       "  <tbody>\n",
       "    <tr>\n",
       "      <th>0</th>\n",
       "      <td>tt10356526</td>\n",
       "      <td>8.3</td>\n",
       "      <td>31</td>\n",
       "    </tr>\n",
       "    <tr>\n",
       "      <th>1</th>\n",
       "      <td>tt10384606</td>\n",
       "      <td>8.9</td>\n",
       "      <td>559</td>\n",
       "    </tr>\n",
       "    <tr>\n",
       "      <th>2</th>\n",
       "      <td>tt1042974</td>\n",
       "      <td>6.4</td>\n",
       "      <td>20</td>\n",
       "    </tr>\n",
       "    <tr>\n",
       "      <th>3</th>\n",
       "      <td>tt1043726</td>\n",
       "      <td>4.2</td>\n",
       "      <td>50352</td>\n",
       "    </tr>\n",
       "    <tr>\n",
       "      <th>4</th>\n",
       "      <td>tt1060240</td>\n",
       "      <td>6.5</td>\n",
       "      <td>21</td>\n",
       "    </tr>\n",
       "    <tr>\n",
       "      <th>...</th>\n",
       "      <td>...</td>\n",
       "      <td>...</td>\n",
       "      <td>...</td>\n",
       "    </tr>\n",
       "    <tr>\n",
       "      <th>73851</th>\n",
       "      <td>tt9805820</td>\n",
       "      <td>8.1</td>\n",
       "      <td>25</td>\n",
       "    </tr>\n",
       "    <tr>\n",
       "      <th>73852</th>\n",
       "      <td>tt9844256</td>\n",
       "      <td>7.5</td>\n",
       "      <td>24</td>\n",
       "    </tr>\n",
       "    <tr>\n",
       "      <th>73853</th>\n",
       "      <td>tt9851050</td>\n",
       "      <td>4.7</td>\n",
       "      <td>14</td>\n",
       "    </tr>\n",
       "    <tr>\n",
       "      <th>73854</th>\n",
       "      <td>tt9886934</td>\n",
       "      <td>7.0</td>\n",
       "      <td>5</td>\n",
       "    </tr>\n",
       "    <tr>\n",
       "      <th>73855</th>\n",
       "      <td>tt9894098</td>\n",
       "      <td>6.3</td>\n",
       "      <td>128</td>\n",
       "    </tr>\n",
       "  </tbody>\n",
       "</table>\n",
       "<p>73856 rows × 3 columns</p>\n",
       "</div>"
      ],
      "text/plain": [
       "         movie_id  averagerating  numvotes\n",
       "0      tt10356526            8.3        31\n",
       "1      tt10384606            8.9       559\n",
       "2       tt1042974            6.4        20\n",
       "3       tt1043726            4.2     50352\n",
       "4       tt1060240            6.5        21\n",
       "...           ...            ...       ...\n",
       "73851   tt9805820            8.1        25\n",
       "73852   tt9844256            7.5        24\n",
       "73853   tt9851050            4.7        14\n",
       "73854   tt9886934            7.0         5\n",
       "73855   tt9894098            6.3       128\n",
       "\n",
       "[73856 rows x 3 columns]"
      ]
     },
     "execution_count": 38,
     "metadata": {},
     "output_type": "execute_result"
    }
   ],
   "source": [
    "pd.read_sql(\"SELECT * FROM movie_ratings;\", conn)"
   ]
  },
  {
   "cell_type": "code",
   "execution_count": 39,
   "id": "e35383f0-060a-46cd-803f-447fdbf237bf",
   "metadata": {},
   "outputs": [
    {
     "name": "stdout",
     "output_type": "stream",
     "text": [
      "      movie_id  averagerating  numvotes\n",
      "0    tt5390098           10.0         5\n",
      "1    tt6295832           10.0         5\n",
      "2    tt1770682           10.0         5\n",
      "3    tt2632430           10.0         5\n",
      "4    tt8730716           10.0         5\n",
      "5    tt4960818           10.0         8\n",
      "6    tt6991826           10.0         5\n",
      "7   tt10176328           10.0         5\n",
      "8    tt4944240           10.0         5\n",
      "9    tt5089804           10.0         7\n",
      "10   tt7259300           10.0         6\n",
      "11  tt10378660           10.0         5\n",
      "12   tt5344358           10.0         6\n",
      "13   tt4109192           10.0         6\n",
      "14   tt7227500           10.0         6\n",
      "15   tt9715646           10.0        20\n"
     ]
    }
   ],
   "source": [
    " sql_query= \"\"\"\n",
    "            SELECT * \n",
    "            FROM movie_ratings\n",
    "            WHERE averagerating > 9.90;\n",
    "            \n",
    "            \"\"\"\n",
    "\n",
    "# Execute the SQL query and read the results into a DataFrame\n",
    "df = pd.read_sql(sql_query, conn)\n",
    "\n",
    "# Display the DataFrame\n",
    "print(df)"
   ]
  },
  {
   "cell_type": "markdown",
   "id": "72e368a2-ee87-4aa5-855a-a6468666d22d",
   "metadata": {},
   "source": [
    "The top 7 best rated movies are:         tt9715646, tt5089804, tt7259300  ,tt5344358, tt4109192, tt7227500, tt4960818          \n",
    "The movie with Id tt9715646 is the best rated\n",
    "Hold on we will use this ranking."
   ]
  },
  {
   "cell_type": "code",
   "execution_count": 40,
   "id": "8ab1799a-6e40-43df-8b2c-7964b576facc",
   "metadata": {},
   "outputs": [
    {
     "data": {
      "text/html": [
       "<div>\n",
       "<style scoped>\n",
       "    .dataframe tbody tr th:only-of-type {\n",
       "        vertical-align: middle;\n",
       "    }\n",
       "\n",
       "    .dataframe tbody tr th {\n",
       "        vertical-align: top;\n",
       "    }\n",
       "\n",
       "    .dataframe thead th {\n",
       "        text-align: right;\n",
       "    }\n",
       "</style>\n",
       "<table border=\"1\" class=\"dataframe\">\n",
       "  <thead>\n",
       "    <tr style=\"text-align: right;\">\n",
       "      <th></th>\n",
       "      <th>person_id</th>\n",
       "      <th>primary_name</th>\n",
       "      <th>birth_year</th>\n",
       "      <th>death_year</th>\n",
       "      <th>primary_profession</th>\n",
       "    </tr>\n",
       "  </thead>\n",
       "  <tbody>\n",
       "    <tr>\n",
       "      <th>0</th>\n",
       "      <td>nm0061671</td>\n",
       "      <td>Mary Ellen Bauder</td>\n",
       "      <td>NaN</td>\n",
       "      <td>NaN</td>\n",
       "      <td>miscellaneous,production_manager,producer</td>\n",
       "    </tr>\n",
       "    <tr>\n",
       "      <th>1</th>\n",
       "      <td>nm0061865</td>\n",
       "      <td>Joseph Bauer</td>\n",
       "      <td>NaN</td>\n",
       "      <td>NaN</td>\n",
       "      <td>composer,music_department,sound_department</td>\n",
       "    </tr>\n",
       "    <tr>\n",
       "      <th>2</th>\n",
       "      <td>nm0062070</td>\n",
       "      <td>Bruce Baum</td>\n",
       "      <td>NaN</td>\n",
       "      <td>NaN</td>\n",
       "      <td>miscellaneous,actor,writer</td>\n",
       "    </tr>\n",
       "    <tr>\n",
       "      <th>3</th>\n",
       "      <td>nm0062195</td>\n",
       "      <td>Axel Baumann</td>\n",
       "      <td>NaN</td>\n",
       "      <td>NaN</td>\n",
       "      <td>camera_department,cinematographer,art_department</td>\n",
       "    </tr>\n",
       "    <tr>\n",
       "      <th>4</th>\n",
       "      <td>nm0062798</td>\n",
       "      <td>Pete Baxter</td>\n",
       "      <td>NaN</td>\n",
       "      <td>NaN</td>\n",
       "      <td>production_designer,art_department,set_decorator</td>\n",
       "    </tr>\n",
       "    <tr>\n",
       "      <th>...</th>\n",
       "      <td>...</td>\n",
       "      <td>...</td>\n",
       "      <td>...</td>\n",
       "      <td>...</td>\n",
       "      <td>...</td>\n",
       "    </tr>\n",
       "    <tr>\n",
       "      <th>606643</th>\n",
       "      <td>nm9990381</td>\n",
       "      <td>Susan Grobes</td>\n",
       "      <td>NaN</td>\n",
       "      <td>NaN</td>\n",
       "      <td>actress</td>\n",
       "    </tr>\n",
       "    <tr>\n",
       "      <th>606644</th>\n",
       "      <td>nm9990690</td>\n",
       "      <td>Joo Yeon So</td>\n",
       "      <td>NaN</td>\n",
       "      <td>NaN</td>\n",
       "      <td>actress</td>\n",
       "    </tr>\n",
       "    <tr>\n",
       "      <th>606645</th>\n",
       "      <td>nm9991320</td>\n",
       "      <td>Madeline Smith</td>\n",
       "      <td>NaN</td>\n",
       "      <td>NaN</td>\n",
       "      <td>actress</td>\n",
       "    </tr>\n",
       "    <tr>\n",
       "      <th>606646</th>\n",
       "      <td>nm9991786</td>\n",
       "      <td>Michelle Modigliani</td>\n",
       "      <td>NaN</td>\n",
       "      <td>NaN</td>\n",
       "      <td>producer</td>\n",
       "    </tr>\n",
       "    <tr>\n",
       "      <th>606647</th>\n",
       "      <td>nm9993380</td>\n",
       "      <td>Pegasus Envoyé</td>\n",
       "      <td>NaN</td>\n",
       "      <td>NaN</td>\n",
       "      <td>director,actor,writer</td>\n",
       "    </tr>\n",
       "  </tbody>\n",
       "</table>\n",
       "<p>606648 rows × 5 columns</p>\n",
       "</div>"
      ],
      "text/plain": [
       "        person_id         primary_name  birth_year  death_year  \\\n",
       "0       nm0061671    Mary Ellen Bauder         NaN         NaN   \n",
       "1       nm0061865         Joseph Bauer         NaN         NaN   \n",
       "2       nm0062070           Bruce Baum         NaN         NaN   \n",
       "3       nm0062195         Axel Baumann         NaN         NaN   \n",
       "4       nm0062798          Pete Baxter         NaN         NaN   \n",
       "...           ...                  ...         ...         ...   \n",
       "606643  nm9990381         Susan Grobes         NaN         NaN   \n",
       "606644  nm9990690          Joo Yeon So         NaN         NaN   \n",
       "606645  nm9991320       Madeline Smith         NaN         NaN   \n",
       "606646  nm9991786  Michelle Modigliani         NaN         NaN   \n",
       "606647  nm9993380       Pegasus Envoyé         NaN         NaN   \n",
       "\n",
       "                                      primary_profession  \n",
       "0              miscellaneous,production_manager,producer  \n",
       "1             composer,music_department,sound_department  \n",
       "2                             miscellaneous,actor,writer  \n",
       "3       camera_department,cinematographer,art_department  \n",
       "4       production_designer,art_department,set_decorator  \n",
       "...                                                  ...  \n",
       "606643                                           actress  \n",
       "606644                                           actress  \n",
       "606645                                           actress  \n",
       "606646                                          producer  \n",
       "606647                             director,actor,writer  \n",
       "\n",
       "[606648 rows x 5 columns]"
      ]
     },
     "execution_count": 40,
     "metadata": {},
     "output_type": "execute_result"
    }
   ],
   "source": [
    "pd.read_sql(\"SELECT * FROM persons;\", conn)"
   ]
  },
  {
   "cell_type": "code",
   "execution_count": 41,
   "id": "bfad662c-6bc4-4cc5-9e3c-d65b24c9ef09",
   "metadata": {},
   "outputs": [
    {
     "data": {
      "text/html": [
       "<div>\n",
       "<style scoped>\n",
       "    .dataframe tbody tr th:only-of-type {\n",
       "        vertical-align: middle;\n",
       "    }\n",
       "\n",
       "    .dataframe tbody tr th {\n",
       "        vertical-align: top;\n",
       "    }\n",
       "\n",
       "    .dataframe thead th {\n",
       "        text-align: right;\n",
       "    }\n",
       "</style>\n",
       "<table border=\"1\" class=\"dataframe\">\n",
       "  <thead>\n",
       "    <tr style=\"text-align: right;\">\n",
       "      <th></th>\n",
       "      <th>movie_id</th>\n",
       "      <th>ordering</th>\n",
       "      <th>person_id</th>\n",
       "      <th>category</th>\n",
       "      <th>job</th>\n",
       "      <th>characters</th>\n",
       "    </tr>\n",
       "  </thead>\n",
       "  <tbody>\n",
       "    <tr>\n",
       "      <th>0</th>\n",
       "      <td>tt0111414</td>\n",
       "      <td>1</td>\n",
       "      <td>nm0246005</td>\n",
       "      <td>actor</td>\n",
       "      <td>None</td>\n",
       "      <td>[\"The Man\"]</td>\n",
       "    </tr>\n",
       "    <tr>\n",
       "      <th>1</th>\n",
       "      <td>tt0111414</td>\n",
       "      <td>2</td>\n",
       "      <td>nm0398271</td>\n",
       "      <td>director</td>\n",
       "      <td>None</td>\n",
       "      <td>None</td>\n",
       "    </tr>\n",
       "    <tr>\n",
       "      <th>2</th>\n",
       "      <td>tt0111414</td>\n",
       "      <td>3</td>\n",
       "      <td>nm3739909</td>\n",
       "      <td>producer</td>\n",
       "      <td>producer</td>\n",
       "      <td>None</td>\n",
       "    </tr>\n",
       "    <tr>\n",
       "      <th>3</th>\n",
       "      <td>tt0323808</td>\n",
       "      <td>10</td>\n",
       "      <td>nm0059247</td>\n",
       "      <td>editor</td>\n",
       "      <td>None</td>\n",
       "      <td>None</td>\n",
       "    </tr>\n",
       "    <tr>\n",
       "      <th>4</th>\n",
       "      <td>tt0323808</td>\n",
       "      <td>1</td>\n",
       "      <td>nm3579312</td>\n",
       "      <td>actress</td>\n",
       "      <td>None</td>\n",
       "      <td>[\"Beth Boothby\"]</td>\n",
       "    </tr>\n",
       "    <tr>\n",
       "      <th>...</th>\n",
       "      <td>...</td>\n",
       "      <td>...</td>\n",
       "      <td>...</td>\n",
       "      <td>...</td>\n",
       "      <td>...</td>\n",
       "      <td>...</td>\n",
       "    </tr>\n",
       "    <tr>\n",
       "      <th>1028181</th>\n",
       "      <td>tt9692684</td>\n",
       "      <td>1</td>\n",
       "      <td>nm0186469</td>\n",
       "      <td>actor</td>\n",
       "      <td>None</td>\n",
       "      <td>[\"Ebenezer Scrooge\"]</td>\n",
       "    </tr>\n",
       "    <tr>\n",
       "      <th>1028182</th>\n",
       "      <td>tt9692684</td>\n",
       "      <td>2</td>\n",
       "      <td>nm4929530</td>\n",
       "      <td>self</td>\n",
       "      <td>None</td>\n",
       "      <td>[\"Herself\",\"Regan\"]</td>\n",
       "    </tr>\n",
       "    <tr>\n",
       "      <th>1028183</th>\n",
       "      <td>tt9692684</td>\n",
       "      <td>3</td>\n",
       "      <td>nm10441594</td>\n",
       "      <td>director</td>\n",
       "      <td>None</td>\n",
       "      <td>None</td>\n",
       "    </tr>\n",
       "    <tr>\n",
       "      <th>1028184</th>\n",
       "      <td>tt9692684</td>\n",
       "      <td>4</td>\n",
       "      <td>nm6009913</td>\n",
       "      <td>writer</td>\n",
       "      <td>writer</td>\n",
       "      <td>None</td>\n",
       "    </tr>\n",
       "    <tr>\n",
       "      <th>1028185</th>\n",
       "      <td>tt9692684</td>\n",
       "      <td>5</td>\n",
       "      <td>nm10441595</td>\n",
       "      <td>producer</td>\n",
       "      <td>producer</td>\n",
       "      <td>None</td>\n",
       "    </tr>\n",
       "  </tbody>\n",
       "</table>\n",
       "<p>1028186 rows × 6 columns</p>\n",
       "</div>"
      ],
      "text/plain": [
       "          movie_id  ordering   person_id  category       job  \\\n",
       "0        tt0111414         1   nm0246005     actor      None   \n",
       "1        tt0111414         2   nm0398271  director      None   \n",
       "2        tt0111414         3   nm3739909  producer  producer   \n",
       "3        tt0323808        10   nm0059247    editor      None   \n",
       "4        tt0323808         1   nm3579312   actress      None   \n",
       "...            ...       ...         ...       ...       ...   \n",
       "1028181  tt9692684         1   nm0186469     actor      None   \n",
       "1028182  tt9692684         2   nm4929530      self      None   \n",
       "1028183  tt9692684         3  nm10441594  director      None   \n",
       "1028184  tt9692684         4   nm6009913    writer    writer   \n",
       "1028185  tt9692684         5  nm10441595  producer  producer   \n",
       "\n",
       "                   characters  \n",
       "0                 [\"The Man\"]  \n",
       "1                        None  \n",
       "2                        None  \n",
       "3                        None  \n",
       "4            [\"Beth Boothby\"]  \n",
       "...                       ...  \n",
       "1028181  [\"Ebenezer Scrooge\"]  \n",
       "1028182   [\"Herself\",\"Regan\"]  \n",
       "1028183                  None  \n",
       "1028184                  None  \n",
       "1028185                  None  \n",
       "\n",
       "[1028186 rows x 6 columns]"
      ]
     },
     "execution_count": 41,
     "metadata": {},
     "output_type": "execute_result"
    }
   ],
   "source": [
    "pd.read_sql(\"SELECT * FROM  principals;\", conn)"
   ]
  },
  {
   "cell_type": "markdown",
   "id": "4b3bbe6d-7391-4d9c-87d1-6e60c74fbece",
   "metadata": {},
   "source": [
    "Now that we have the best rated movies_id,we create a query that fetches the person id from our table principals .This will give us the person_id. "
   ]
  },
  {
   "cell_type": "code",
   "execution_count": 42,
   "id": "08706432-1557-462e-a844-e3736a7544b3",
   "metadata": {},
   "outputs": [
    {
     "name": "stdout",
     "output_type": "stream",
     "text": [
      "    movie_id  person_id       job\n",
      "0  tt9715646  nm1079801      None\n",
      "1  tt9715646  nm7392892      None\n",
      "2  tt9715646  nm0907504      None\n",
      "3  tt9715646  nm3388005      None\n",
      "4  tt9715646  nm3389177  producer\n",
      "5  tt9715646  nm7895812      None\n"
     ]
    }
   ],
   "source": [
    "pd.read_sql(\"SELECT * FROM  principals;\", conn)\n",
    "#WE Want to find the person id for the movie tt9715646\n",
    "sql_queryb= \"\"\"\n",
    "            SELECT  movie_id ,person_id,job\n",
    "            FROM principals\n",
    "            WHERE movie_id ='tt9715646'\n",
    "\n",
    "  \"\"\"\n",
    "\n",
    "# Execute the SQL query and read the results into a DataFrame\n",
    "df = pd.read_sql(sql_queryb, conn)\n",
    "\n",
    "# Display the DataFrame\n",
    "print(df)\n",
    "\n"
   ]
  },
  {
   "cell_type": "markdown",
   "id": "6975d075-649a-495c-bb02-69f99720e646",
   "metadata": {},
   "source": [
    "The producer of the best movie is nm3389177"
   ]
  },
  {
   "cell_type": "markdown",
   "id": "92c31257-d933-4d3e-902e-18612e1fb007",
   "metadata": {},
   "source": [
    "From the table persons we can get the primary name,birth year,death year and characters of the best producer whose Id is nm3389177\n"
   ]
  },
  {
   "cell_type": "code",
   "execution_count": 43,
   "id": "b8bed1a1-1113-4882-a787-8795d44c73d4",
   "metadata": {},
   "outputs": [
    {
     "name": "stdout",
     "output_type": "stream",
     "text": [
      "            primary_name birth_year death_year        primary_profession\n",
      "0  Maria Demeshkina Peek       None       None  producer,director,editor\n"
     ]
    }
   ],
   "source": [
    "pd.read_sql(\"SELECT * FROM  persons;\", conn)\n",
    "#WE Want to find the person id for the movie tt9715646\n",
    "sql_queryc= \"\"\"\n",
    "            SELECT  primary_name, birth_year, death_year, primary_profession\n",
    "            FROM persons\n",
    "            WHERE person_id ='nm3389177'\n",
    "\n",
    "  \"\"\"\n",
    "\n",
    "# Execute the SQL query and read the results into a DataFrame\n",
    "df = pd.read_sql(sql_queryc, conn)\n",
    "\n",
    "# Display the DataFrame\n",
    "print(df)\n",
    "\n"
   ]
  },
  {
   "cell_type": "markdown",
   "id": "c76cff93-40bb-433b-ab83-7fe5042d638d",
   "metadata": {},
   "source": [
    "The  best producer is  Maria Demeshkina Peek ."
   ]
  },
  {
   "cell_type": "markdown",
   "id": "e7752689-8c83-47eb-ba92-7f27d30384af",
   "metadata": {},
   "source": [
    "From writers we can have a look at the writers of the best rated movie."
   ]
  },
  {
   "cell_type": "code",
   "execution_count": 45,
   "id": "55cb9b27-65d6-44bd-b061-44d01933b004",
   "metadata": {},
   "outputs": [
    {
     "name": "stdout",
     "output_type": "stream",
     "text": [
      "Empty DataFrame\n",
      "Columns: [person_id]\n",
      "Index: []\n"
     ]
    }
   ],
   "source": [
    "pd.read_sql(\"SELECT * FROM writers ;\", conn)\n",
    "sql_queryd= \"\"\"\n",
    "            SELECT  person_id\n",
    "            FROM writers\n",
    "            WHERE person_id ='nm3389177'\n",
    "\n",
    "  \"\"\"\n",
    "df = pd.read_sql(sql_queryd, conn)\n",
    "\n",
    "# Display the DataFrame\n",
    "print(df)\n"
   ]
  },
  {
   "cell_type": "markdown",
   "id": "a25faa02-6377-49d7-a457-d51bb68e00fa",
   "metadata": {},
   "source": [
    "Since it is empty,we can for the second best movies.\n",
    "Keep this on hold."
   ]
  },
  {
   "cell_type": "code",
   "execution_count": 50,
   "id": "0ba4ada4-d53a-45f7-984d-5012b2697df1",
   "metadata": {},
   "outputs": [
    {
     "data": {
      "text/html": [
       "<div>\n",
       "<style scoped>\n",
       "    .dataframe tbody tr th:only-of-type {\n",
       "        vertical-align: middle;\n",
       "    }\n",
       "\n",
       "    .dataframe tbody tr th {\n",
       "        vertical-align: top;\n",
       "    }\n",
       "\n",
       "    .dataframe thead th {\n",
       "        text-align: right;\n",
       "    }\n",
       "</style>\n",
       "<table border=\"1\" class=\"dataframe\">\n",
       "  <thead>\n",
       "    <tr style=\"text-align: right;\">\n",
       "      <th></th>\n",
       "      <th>movie_id</th>\n",
       "      <th>person_id</th>\n",
       "    </tr>\n",
       "  </thead>\n",
       "  <tbody>\n",
       "    <tr>\n",
       "      <th>0</th>\n",
       "      <td>tt0285252</td>\n",
       "      <td>nm0899854</td>\n",
       "    </tr>\n",
       "    <tr>\n",
       "      <th>1</th>\n",
       "      <td>tt0438973</td>\n",
       "      <td>nm0175726</td>\n",
       "    </tr>\n",
       "    <tr>\n",
       "      <th>2</th>\n",
       "      <td>tt0438973</td>\n",
       "      <td>nm1802864</td>\n",
       "    </tr>\n",
       "    <tr>\n",
       "      <th>3</th>\n",
       "      <td>tt0462036</td>\n",
       "      <td>nm1940585</td>\n",
       "    </tr>\n",
       "    <tr>\n",
       "      <th>4</th>\n",
       "      <td>tt0835418</td>\n",
       "      <td>nm0310087</td>\n",
       "    </tr>\n",
       "    <tr>\n",
       "      <th>5</th>\n",
       "      <td>tt0835418</td>\n",
       "      <td>nm0841532</td>\n",
       "    </tr>\n",
       "    <tr>\n",
       "      <th>6</th>\n",
       "      <td>tt0878654</td>\n",
       "      <td>nm0284943</td>\n",
       "    </tr>\n",
       "    <tr>\n",
       "      <th>7</th>\n",
       "      <td>tt0878654</td>\n",
       "      <td>nm0284943</td>\n",
       "    </tr>\n",
       "    <tr>\n",
       "      <th>8</th>\n",
       "      <td>tt0878654</td>\n",
       "      <td>nm0284943</td>\n",
       "    </tr>\n",
       "    <tr>\n",
       "      <th>9</th>\n",
       "      <td>tt0996958</td>\n",
       "      <td>nm2286991</td>\n",
       "    </tr>\n",
       "  </tbody>\n",
       "</table>\n",
       "</div>"
      ],
      "text/plain": [
       "    movie_id  person_id\n",
       "0  tt0285252  nm0899854\n",
       "1  tt0438973  nm0175726\n",
       "2  tt0438973  nm1802864\n",
       "3  tt0462036  nm1940585\n",
       "4  tt0835418  nm0310087\n",
       "5  tt0835418  nm0841532\n",
       "6  tt0878654  nm0284943\n",
       "7  tt0878654  nm0284943\n",
       "8  tt0878654  nm0284943\n",
       "9  tt0996958  nm2286991"
      ]
     },
     "execution_count": 50,
     "metadata": {},
     "output_type": "execute_result"
    }
   ],
   "source": [
    "pd.read_sql(\"SELECT * FROM writers ;\", conn).head(10)\n"
   ]
  },
  {
   "cell_type": "code",
   "execution_count": 46,
   "id": "f6a1e05d-9280-4144-a1ca-62d718f3a759",
   "metadata": {},
   "outputs": [
    {
     "name": "stdout",
     "output_type": "stream",
     "text": [
      "      movie_id   person_id    movie_id  averagerating  numvotes\n",
      "0    tt1770682   nm4166961   tt1770682           10.0         5\n",
      "1    tt2632430   nm0880350   tt2632430           10.0         5\n",
      "2    tt8730716   nm9500109   tt8730716           10.0         5\n",
      "3    tt4960818   nm6680574   tt4960818           10.0         8\n",
      "4    tt4960818   nm7223265   tt4960818           10.0         8\n",
      "5    tt6991826   nm2751775   tt6991826           10.0         5\n",
      "6   tt10176328  nm10616933  tt10176328           10.0         5\n",
      "7   tt10176328  nm10617142  tt10176328           10.0         5\n",
      "8    tt5089804   nm7633303   tt5089804           10.0         7\n",
      "9    tt7259300   nm8791543   tt7259300           10.0         6\n",
      "10   tt7227500   nm1249950   tt7227500           10.0         6\n"
     ]
    }
   ],
   "source": [
    "\n",
    "q1 = \"\"\"\n",
    "SELECT *\n",
    "  FROM writers\n",
    "       JOIN movie_ratings\n",
    "       ON writers.movie_id = movie_ratings.movie_id\n",
    "       WHERE averagerating >=10\n",
    "\"\"\"\n",
    "df=pd.read_sql(q1, conn)\n",
    "print(df)\n"
   ]
  },
  {
   "cell_type": "code",
   "execution_count": 47,
   "id": "0084ad8b-bb63-4c41-9a52-610342e06d78",
   "metadata": {},
   "outputs": [
    {
     "data": {
      "image/png": "[encoded data removed]",
      "text/plain": [
       "<Figure size 1000x600 with 1 Axes>"
      ]
     },
     "metadata": {},
     "output_type": "display_data"
    }
   ],
   "source": [
    "#plot a histogram showing the movie_id and numvotes\n",
    "#indicates the frequency of the average rating.\n",
    "#create a dictionary\n",
    "freq_list ={ 'tt1770682':5 ,'tt2632430 ':5,'tt8730716':5,'tt4960818 ':8 ,'tt6991826':5, 'tt10176328':5, 'tt5089804':7 ,'tt7259300 ':6 ,'tt7227500 ':6}\n",
    "\n",
    "keys = list(freq_list.keys())\n",
    "values = list(freq_list.values())\n",
    "\n",
    "# Plot histogram\n",
    "plt.figure(figsize=(10, 6))\n",
    "plt.bar(keys, values)\n",
    "plt.xlabel('Movie IDs')\n",
    "plt.ylabel('Frequency')\n",
    "plt.title('Histogram of Movie IDs and Frequencies')\n",
    "plt.xticks(rotation=45, ha='right')\n",
    "plt.tight_layout()\n",
    "plt.show()\n"
   ]
  },
  {
   "cell_type": "markdown",
   "id": "0026f68a-7331-4658-9839-cc39885ce1ca",
   "metadata": {},
   "source": [
    "Gives the persons IDs who have written the best rated movies whose Ids are available in the table writers.\n",
    "The  best writer's   ID are: nm6680574 and nm7223265   having written the  best rated movie with highest number of votes.(tt4960818)\n",
    "Second to them is nm7633303\n",
    "Third in position is nm8791543  writer to movie_id  tt7259300 and  nm1249950 writer to tt7227500 .8"
   ]
  },
  {
   "cell_type": "code",
   "execution_count": 48,
   "id": "0436f1a5-374b-4aa3-a4b9-8f7d5839e54a",
   "metadata": {},
   "outputs": [
    {
     "name": "stdout",
     "output_type": "stream",
     "text": [
      "Person with ID nm6680574: Brian Baucum)database.\n",
      "Person with ID nm7223265: Loreto Di Cesare)database.\n"
     ]
    }
   ],
   "source": [
    "#create a list of the two best writers.\n",
    "#loop through the persons table to check for their names.\n",
    "person_ids = ['nm6680574', 'nm7223265']\n",
    "\n",
    "# Construct the SQL query\n",
    "query9 = f\"\"\"\n",
    "    SELECT primary_name, person_id\n",
    "    FROM persons\n",
    "    WHERE person_id IN ('{\"','\".join(person_ids)}')\n",
    "\"\"\"\n",
    "\n",
    "# Fetch data from the database using Pandas\n",
    "df = pd.read_sql_query(query9, conn)\n",
    "\n",
    "# Loop through the DataFrame and print primary names\n",
    "for index, row in df.iterrows():\n",
    "    print(f\"Person with ID {row['person_id']}: {row['primary_name']}\"\")database.\")\n"
   ]
  },
  {
   "cell_type": "markdown",
   "id": "288e1467-ac80-4541-a8ed-4f1df57a8d47",
   "metadata": {},
   "source": [
    "The two best writers are:Brian Baucum and Loreto Di Cesare."
   ]
  },
  {
   "cell_type": "code",
   "execution_count": 49,
   "id": "84a01002-88af-46d8-98ad-fb96b018dbf5",
   "metadata": {},
   "outputs": [
    {
     "name": "stdout",
     "output_type": "stream",
     "text": [
      "['tt5390098', 'tt6295832', 'tt1770682 ,tt2632430', 'tt8730716,tt4960818', 'tt6991826', 'tt10176328', 'tt4944240', 'tt5089804']\n"
     ]
    }
   ],
   "source": [
    "#to find the length of the best rated movies.\n",
    "best_rated_movies_ids=['tt5390098'  ,'tt6295832' ,'tt1770682'' ,tt2632430','tt8730716'',tt4960818','tt6991826','tt10176328','tt4944240' ,'tt5089804']\n",
    "print(best_rated_movies_ids)"
   ]
  },
  {
   "cell_type": "code",
   "execution_count": 56,
   "id": "40c2c280-efed-4e6c-95c4-ae9b282e4826",
   "metadata": {},
   "outputs": [
    {
     "name": "stdout",
     "output_type": "stream",
     "text": [
      "Empty DataFrame\n",
      "Columns: [runtime_minutes]\n",
      "Index: []\n",
      "   runtime_minutes\n",
      "0             70.0\n"
     ]
    }
   ],
   "source": [
    "#from table movie_basics ,we can check the running time of the best rated movies.\n",
    "\n",
    "sql_queryr= \"\"\"\n",
    "            SELECT  runtime_minutes\n",
    "            FROM movie_basics\n",
    "            WHERE movie_id =' tt9715646'\n",
    "\n",
    "  \"\"\"\n",
    "df = pd.read_sql(sql_queryr, conn)\n",
    "\n",
    "# Display the DataFrame\n",
    "print(df)\n",
    "sql_queryr= \"\"\"\n",
    "            SELECT  runtime_minutes\n",
    "            FROM movie_basics\n",
    "            WHERE movie_id ='tt4960818'\n",
    "\n",
    "  \"\"\"\n",
    "df = pd.read_sql(sql_queryr, conn)\n",
    "\n",
    "# Display the DataFrame\n",
    "print(df)\n"
   ]
  },
  {
   "cell_type": "code",
   "execution_count": null,
   "id": "21f48575-0877-4dcf-960e-982cba01dddd",
   "metadata": {},
   "outputs": [],
   "source": [
    "The runtime  of the best rated movie is empty hence we use the second best movie has a rntime of  is 70.0."
   ]
  },
  {
   "cell_type": "code",
   "execution_count": 108,
   "id": "6fc7e50f-dc4c-4b88-ba2a-74abc44131c0",
   "metadata": {},
   "outputs": [
    {
     "name": "stdout",
     "output_type": "stream",
     "text": [
      "Movie with ID tt5390098 exists in the database.\n",
      "Movie with ID tt6295832 exists in the database.\n",
      "Movie with ID tt1770682 exists in the database.\n",
      "Movie with ID tt2632430 exists in the database.\n",
      "Movie with ID tt8730716 exists in the database.\n",
      "Movie with ID tt4960818 exists in the database.\n",
      "Movie with ID tt6991826 exists in the database.\n",
      "Movie with ID tt10176328 exists in the database.\n",
      "Movie with ID tt4944240 exists in the database.\n",
      "Movie with ID tt5089804 exists in the database.\n"
     ]
    }
   ],
   "source": [
    "#WE try to check the genre and titles of the best rated movies\n",
    "#loop through movie basics to check for movie Ids in the list above.\n",
    "#check the genre .\n",
    "#check the title.\n",
    "movie_ids = ['tt5390098', 'tt6295832', 'tt1770682', 'tt2632430', 'tt8730716', 'tt4960818', 'tt6991826', 'tt10176328', 'tt4944240', 'tt5089804']\n",
    "\n",
    "query4 = f\"SELECT * FROM movie_basics WHERE movie_id IN ({','.join(['?']*len(movie_ids))})\"\n",
    "df = pd.read_sql_query(query4, conn, params=movie_ids)\n",
    "\n",
    "\n",
    "for movie_id in movie_ids:\n",
    "    # Check if the movie ID exists in the DataFrame\n",
    "    if movie_id in df['movie_id'].values:\n",
    "        print(f\"Movie with ID {movie_id} exists in the database.\")\n",
    "    else:\n",
    "        print(f\"Movie with ID {movie_id} does not exist in the database.\")\n",
    "\n",
    "  #the above code first checks whether the movie Id is in the database.\n",
    "    "
   ]
  },
  {
   "cell_type": "markdown",
   "id": "463d1602-01a7-4a7d-b6fc-b91cfcd074fe",
   "metadata": {},
   "source": [
    "The movies actually exist."
   ]
  },
  {
   "cell_type": "code",
   "execution_count": 109,
   "id": "a2e0e1eb-a240-4165-a73b-e47951216e1a",
   "metadata": {},
   "outputs": [
    {
     "name": "stdout",
     "output_type": "stream",
     "text": [
      "Movie title: Freeing Bernie Baran\n",
      "Movie title: Exteriores: Mulheres Brasileiras na Diplomacia\n",
      "Movie title: Exteriores: Mulheres Brasileiras na Diplomacia\n",
      "Movie title: Foreign - Brazilian Women in Diplomacy\n",
      "Movie title: Hercule contre Hermès\n",
      "Movie title: Revolution Food\n",
      "Movie title: Dog Days in the Heartland\n",
      "Movie title: Requiem voor een Boom\n",
      "Movie title: Atlas Mountain: Barbary Macaques - Childcaring Is the Man's Job\n",
      "Movie title: Atlas Mountain: Barbary Macaques - Childcaring Is the Man's Job\n",
      "Movie title: The Paternal Bond: Barbary Macaques\n",
      "Movie title: The Paternal Bond: Barbary Macaques\n",
      "Movie title: Macaques de Barbarie, la force du lien\n",
      "Movie title: Fly High: Story of the Disc Dog\n",
      "Movie title: A Dedicated Life: Phoebe Brand and the Legacy of the Group Theater\n"
     ]
    }
   ],
   "source": [
    "#Since we got a list with movie Ids that are best rated,we can find the their titles from the table movie_basics.\n",
    "query5= f\"SELECT title FROM movie_akas WHERE movie_id IN ({','.join(['?']*len(movie_ids))})\"\n",
    "df = pd.read_sql_query(query5, conn, params=movie_ids)\n",
    "\n",
    "# Loop through each movie ID in the list\n",
    "for index, row in df.iterrows():\n",
    "    print(f\"Movie title: {row['title']}\")"
   ]
  },
  {
   "cell_type": "markdown",
   "id": "ca4b98dd-a1b2-45cd-89b0-80d18a7258bf",
   "metadata": {},
   "source": [
    "The titles of the best rated movies are as the output above.\n"
   ]
  },
  {
   "cell_type": "code",
   "execution_count": 110,
   "id": "4bd11df3-b9d7-4039-877a-1cb287e9c270",
   "metadata": {},
   "outputs": [
    {
     "name": "stdout",
     "output_type": "stream",
     "text": [
      "Movie Title: Freeing Bernie Baran, Genres: Crime,Documentary\n",
      "Movie Title: Exteriores: Mulheres Brasileiras na Diplomacia, Genres: Documentary\n",
      "Movie Title: Exteriores: Mulheres Brasileiras na Diplomacia, Genres: Documentary\n",
      "Movie Title: Foreign - Brazilian Women in Diplomacy, Genres: Documentary\n",
      "Movie Title: Hercule contre Hermès, Genres: Documentary\n",
      "Movie Title: Revolution Food, Genres: Documentary\n",
      "Movie Title: Dog Days in the Heartland, Genres: Drama\n",
      "Movie Title: Requiem voor een Boom, Genres: Documentary\n",
      "Movie Title: Atlas Mountain: Barbary Macaques - Childcaring Is the Man's Job, Genres: Documentary\n",
      "Movie Title: Atlas Mountain: Barbary Macaques - Childcaring Is the Man's Job, Genres: Documentary\n",
      "Movie Title: The Paternal Bond: Barbary Macaques, Genres: Documentary\n",
      "Movie Title: The Paternal Bond: Barbary Macaques, Genres: Documentary\n",
      "Movie Title: Macaques de Barbarie, la force du lien, Genres: Documentary\n",
      "Movie Title: Fly High: Story of the Disc Dog, Genres: Documentary\n",
      "Movie Title: A Dedicated Life: Phoebe Brand and the Legacy of the Group Theater, Genres: Documentary\n"
     ]
    }
   ],
   "source": [
    "#print out the genre of the best rated movies.\n",
    "movie_ids = ['tt5390098', 'tt6295832', 'tt1770682', 'tt2632430', 'tt8730716', 'tt4960818', 'tt6991826', 'tt10176328', 'tt4944240', 'tt5089804']\n",
    "\n",
    "# Fetch data from the database using Pandas\n",
    "query = f\"\"\"\n",
    "    SELECT a.title, b.genres\n",
    "    FROM movie_akas a\n",
    "    INNER JOIN movie_basics b ON a.movie_id = b.movie_id\n",
    "    WHERE a.movie_id IN ({','.join(['?']*len(movie_ids))})\n",
    "\"\"\"\n",
    "df = pd.read_sql_query(query, conn, params=movie_ids)\n",
    "\n",
    "# Loop through the DataFrame and print movie title and genres\n",
    "for index, row in df.iterrows():\n",
    "    print(f\"Movie Title: {row['title']}, Genres: {row['genres']}\")"
   ]
  },
  {
   "cell_type": "code",
   "execution_count": 70,
   "id": "8386bd47-2a78-4cc9-aeb2-951687a970ab",
   "metadata": {},
   "outputs": [
    {
     "data": {
      "image/png": "[encoded data removed]",
      "text/plain": [
       "<Figure size 1000x800 with 1 Axes>"
      ]
     },
     "metadata": {},
     "output_type": "display_data"
    }
   ],
   "source": [
    "#It is certainly very clear that the audience loves Documentaries.#The above list is a list of dictionaries.\n",
    "movie_data = [\n",
    "    {\"Movie Title\": \"Freeing Bernie Baran\", \"Genres\": \"Crime,Documentary\"},\n",
    "    {\"Movie Title\": \"Exteriores: Mulheres Brasileiras na Diplomacia\", \"Genres\": \"Documentary\"},\n",
    "    {\"Movie Title\": \"Exteriores: Mulheres Brasileiras na Diplomacia\", \"Genres\": \"Documentary\"},\n",
    "    {\"Movie Title\": \"Foreign - Brazilian Women in Diplomacy\", \"Genres\": \"Documentary\"},\n",
    "    {\"Movie Title\": \"Hercule contre Hermès\", \"Genres\": \"Documentary\"},\n",
    "    {\"Movie Title\": \"Revolution Food\", \"Genres\": \"Documentary\"},\n",
    "    {\"Movie Title\": \"Dog Days in the Heartland\", \"Genres\": \"Drama\"},\n",
    "    {\"Movie Title\": \"Requiem voor een Boom\", \"Genres\": \"Documentary\"},\n",
    "    {\"Movie Title\": \"Atlas Mountain: Barbary Macaques - Childcaring Is the Man's Job\", \"Genres\": \"Documentary\"},\n",
    "    {\"Movie Title\": \"Atlas Mountain: Barbary Macaques - Childcaring Is the Man's Job\", \"Genres\": \"Documentary\"},\n",
    "    {\"Movie Title\": \"The Paternal Bond: Barbary Macaques\", \"Genres\": \"Documentary\"},\n",
    "    {\"Movie Title\": \"The Paternal Bond: Barbary Macaques\", \"Genres\": \"Documentary\"},\n",
    "    {\"Movie Title\": \"Macaques de Barbarie, la force du lien\", \"Genres\": \"Documentary\"},\n",
    "    {\"Movie Title\": \"Fly High: Story of the Disc Dog\", \"Genres\": \"Documentary\"},\n",
    "    {\"Movie Title\": \"A Dedicated Life: Phoebe Brand and the Legacy of the Group Theater\", \"Genres\": \"Documentary\"}\n",
    "]\n",
    "genres = [genre.strip() for movie in movie_data for genre in movie[\"Genres\"].split(\",\")]\n",
    "\n",
    "# Count occurrences of each genre\n",
    "genre_counts = {}\n",
    "for genre in genres:\n",
    "    genre_counts[genre] = genre_counts.get(genre, 0) + 1\n",
    "\n",
    "# Plot histogram\n",
    "import matplotlib.pyplot as plt\n",
    "plt.figure(figsize=(10, 8))\n",
    "plt.bar(genre_counts.keys(), genre_counts.values())\n",
    "plt.xlabel('Genres')\n",
    "plt.ylabel('Frequency')\n",
    "plt.title('Histogram of Movie Genres')\n",
    "plt.xticks(rotation=45, ha='right')\n",
    "plt.tight_layout()\n",
    "plt.show()\n",
    "    "
   ]
  },
  {
   "cell_type": "code",
   "execution_count": null,
   "id": "8cee25cd-ab6f-4d1c-b820-b0b3839fc535",
   "metadata": {},
   "outputs": [],
   "source": [
    "The most frequently watched movies are Documentaries."
   ]
  },
  {
   "cell_type": "code",
   "execution_count": 67,
   "id": "3e3359c0-4873-4ad2-ac17-5a3893b7382b",
   "metadata": {},
   "outputs": [
    {
     "name": "stdout",
     "output_type": "stream",
     "text": [
      "                          genres  movie_count\n",
      "0                           None         3859\n",
      "1                         Action         3018\n",
      "2            Action,Adult,Comedy            6\n",
      "3               Action,Adventure          337\n",
      "4     Action,Adventure,Animation         1750\n",
      "...                          ...          ...\n",
      "1038        Thriller,War,Western            3\n",
      "1039            Thriller,Western           19\n",
      "1040                         War          201\n",
      "1041                 War,Western            1\n",
      "1042                     Western          212\n",
      "\n",
      "[1043 rows x 2 columns]\n"
     ]
    }
   ],
   "source": [
    "#The count of movies produced .\n",
    "df['genres'].fillna('Unknown', inplace=True)\n",
    "pldf_filtered = df.dropna(subset=['genres'])\n",
    "\n",
    "\n",
    "query6 = \"\"\"\n",
    "    SELECT b.genres, COUNT(*) AS movie_count\n",
    "    FROM movie_akas a\n",
    "    INNER JOIN movie_basics b ON a.movie_id = b.movie_id\n",
    "    GROUP BY b.genres\n",
    "\"\"\"\n",
    "\n",
    "# Fetch data from the database using Pandas\n",
    "df = pd.read_sql_query(query6, conn)\n",
    "print(df)\n",
    "\n"
   ]
  },
  {
   "cell_type": "code",
   "execution_count": 66,
   "id": "cb4e9f67-b19c-41f2-a8dc-3926ec99da3b",
   "metadata": {},
   "outputs": [
    {
     "name": "stdout",
     "output_type": "stream",
     "text": [
      "                        genres  movie_count\n",
      "0                        Drama        44855\n",
      "1                  Documentary        42157\n",
      "2                       Comedy        17748\n",
      "3                 Comedy,Drama        11632\n",
      "4                Drama,Romance         7768\n",
      "5                       Horror         7214\n",
      "6         Comedy,Drama,Romance         6553\n",
      "7               Comedy,Romance         5467\n",
      "8   Adventure,Animation,Comedy         4997\n",
      "9                     Thriller         4885\n",
      "10              Drama,Thriller         4605\n",
      "11             Horror,Thriller         4277\n",
      "12                        None         3859\n",
      "13          Action,Crime,Drama         3678\n",
      "14       Biography,Documentary         3330\n",
      "15                      Action         3018\n",
      "16        Crime,Drama,Thriller         3001\n",
      "17           Documentary,Drama         2565\n",
      "18     Horror,Mystery,Thriller         2525\n",
      "19     Action,Adventure,Sci-Fi         2487\n"
     ]
    }
   ],
   "source": [
    "#The top 10 most produced movies.\n",
    "query7 = \"\"\"\n",
    "    SELECT b.genres, COUNT(*) AS movie_count\n",
    "    FROM movie_akas a\n",
    "    INNER JOIN movie_basics b ON a.movie_id = b.movie_id\n",
    "    GROUP BY b.genres\n",
    "    ORDER BY movie_count DESC\n",
    "    LIMIT 20\n",
    "\"\"\"\n",
    "\n",
    "# Fetch data from the database using Pandas\n",
    "df = pd.read_sql_query(query7, conn)\n",
    "\n",
    "# Print the result\n",
    "print(df)"
   ]
  },
  {
   "cell_type": "markdown",
   "id": "59295c00-3900-4ffd-b2fd-80a189b51823",
   "metadata": {},
   "source": [
    "The top two most produced movies are Documenataries and Drama."
   ]
  },
  {
   "cell_type": "code",
   "execution_count": 62,
   "id": "778a99ed-81a9-4047-862f-482a1be8092d",
   "metadata": {},
   "outputs": [
    {
     "name": "stdout",
     "output_type": "stream",
     "text": [
      "                        genres  runtime_minutes  movie_count\n",
      "0                        Drama             92.0        44855\n",
      "1                  Documentary             52.0        42157\n",
      "2                       Comedy              NaN        17748\n",
      "3                 Comedy,Drama             60.0        11632\n",
      "4                Drama,Romance              NaN         7768\n",
      "5                       Horror              NaN         7214\n",
      "6         Comedy,Drama,Romance              NaN         6553\n",
      "7               Comedy,Romance              NaN         5467\n",
      "8   Adventure,Animation,Comedy             85.0         4997\n",
      "9                     Thriller             90.0         4885\n",
      "10              Drama,Thriller             85.0         4605\n",
      "11             Horror,Thriller             80.0         4277\n",
      "12                        None             93.0         3859\n",
      "13          Action,Crime,Drama            104.0         3678\n",
      "14       Biography,Documentary             93.0         3330\n",
      "15                      Action              NaN         3018\n",
      "16        Crime,Drama,Thriller            109.0         3001\n",
      "17           Documentary,Drama            111.0         2565\n",
      "18     Horror,Mystery,Thriller            107.0         2525\n",
      "19     Action,Adventure,Sci-Fi            124.0         2487\n"
     ]
    }
   ],
   "source": [
    "#check for the length of  watched movies.(runtime)\n",
    "query8 = \"\"\"\n",
    "    SELECT b.genres, b.runtime_minutes, COUNT(*) AS movie_count\n",
    "    FROM movie_akas a\n",
    "    INNER JOIN movie_basics b ON a.movie_id = b.movie_id\n",
    "    GROUP BY b.genres\n",
    "    ORDER BY movie_count DESC\n",
    "    LIMIT 20\n",
    "\"\"\"\n",
    "\n",
    "# Fetch data from the database using Pandas\n",
    "df = pd.read_sql_query(query8, conn)\n",
    "\n",
    "# Print the result\n",
    "print(df)"
   ]
  },
  {
   "cell_type": "markdown",
   "id": "01548c6f-f8be-42b1-a6c2-6ae2e94c73d6",
   "metadata": {},
   "source": [
    "This gives an idea of the average runtime of the movies to produce."
   ]
  },
  {
   "cell_type": "markdown",
   "id": "40046122-475d-4a10-9961-e9d12e148bb3",
   "metadata": {},
   "source": [
    "Least rated movies."
   ]
  },
  {
   "cell_type": "code",
   "execution_count": 63,
   "id": "a4e8881e-afea-459a-874a-0527bb5d70a6",
   "metadata": {},
   "outputs": [
    {
     "name": "stdout",
     "output_type": "stream",
     "text": [
      "     movie_id  averagerating  numvotes\n",
      "0   tt8426154            1.0         5\n",
      "1   tt6792126            1.0         5\n",
      "2   tt2447822            1.0         5\n",
      "3   tt8446392            1.0         5\n",
      "4   tt3709556            1.0         6\n",
      "5   tt3717376            1.0         6\n",
      "6   tt2293038            1.0         6\n",
      "7   tt5452328            1.0         6\n",
      "8   tt2087999            1.0         7\n",
      "9   tt6153116            1.0         7\n",
      "10  tt6749562            1.0         8\n",
      "11  tt2370036            1.0         9\n",
      "12  tt9352262            1.0        16\n",
      "13  tt7926296            1.0        17\n",
      "14  tt9378134            1.0        18\n",
      "15  tt6018006            1.0        19\n",
      "16  tt5546274            1.0        19\n",
      "17  tt8313262            1.0        20\n",
      "18  tt5425998            1.0        20\n",
      "19  tt5888246            1.0        21\n"
     ]
    }
   ],
   "source": [
    "sql_query2 = \"\"\"\n",
    "            SELECT * \n",
    "            FROM movie_ratings\n",
    "            WHERE averagerating <= 1.0\n",
    "            ORDER BY numvotes ASC\n",
    "            LIMIT 20;\n",
    "            \"\"\"\n",
    "\n",
    "# Execute the SQL query and read the results into a DataFrame\n",
    "df = pd.read_sql(sql_query2, conn)\n",
    "\n",
    "# Display the DataFrame\n",
    "print(df)"
   ]
  },
  {
   "cell_type": "code",
   "execution_count": 64,
   "id": "5a37b14f-345b-4e32-b4a6-602c185fd5f4",
   "metadata": {},
   "outputs": [
    {
     "name": "stdout",
     "output_type": "stream",
     "text": [
      "{'tt3717376 ', 'tt3709556', 'tt2293038', 'tt6153116 ', 'tt2447822 ', 'tt8446392', 'tt6792126', 'tt2087999 ', 'tt5452328', 'tt8426154'}\n"
     ]
    }
   ],
   "source": [
    "least_rated =['tt8426154','tt6792126','tt2447822 ','tt8446392','tt3709556','tt3717376 ','tt2293038','tt5452328','tt2087999 ','tt6153116 ']\n",
    "print(set(least_rated))"
   ]
  },
  {
   "cell_type": "markdown",
   "id": "6cf558e8-a146-4188-8c74-47e8f0da6771",
   "metadata": {},
   "source": []
  },
  {
   "cell_type": "code",
   "execution_count": 77,
   "id": "547ac3c9-230d-4aae-88c3-89a92b263110",
   "metadata": {},
   "outputs": [
    {
     "name": "stdout",
     "output_type": "stream",
     "text": [
      "   runtime_minutes\n",
      "0             72.0\n"
     ]
    }
   ],
   "source": [
    "Sample1\n",
    "least_rated  = ['tt8426154','tt6792126','tt2447822 ','tt8446392','tt3709556','tt3717376 ','tt2293038','tt5452328','tt2087999 ','tt6153116 ']\n",
    "pd.read_sql(\"SELECT * FROM movie_basics ;\", conn)\n",
    "sql_querye= \"\"\"\n",
    "            SELECT  runtime_minutes\n",
    "            FROM movie_basics\n",
    "            WHERE movie_id = 'tt8426154'\n",
    "\n",
    "  \"\"\"\n",
    "df = pd.read_sql(sql_querye, conn)\n",
    "\n",
    "# Display the DataFrame\n",
    "print(df)"
   ]
  },
  {
   "cell_type": "code",
   "execution_count": 79,
   "id": "79d487a1-ac24-47d3-9441-28ff8cfa2841",
   "metadata": {},
   "outputs": [
    {
     "name": "stdout",
     "output_type": "stream",
     "text": [
      "   runtime_minutes\n",
      "0             66.0\n"
     ]
    }
   ],
   "source": [
    "#sample2\n",
    "least_rated  = ['tt8426154','tt6792126','tt2447822 ','tt8446392','tt3709556','tt3717376 ','tt2293038','tt5452328','tt2087999 ','tt6153116 ']\n",
    "pd.read_sql(\"SELECT * FROM movie_basics ;\", conn)\n",
    "sql_querye= \"\"\"\n",
    "            SELECT  runtime_minutes\n",
    "            FROM movie_basics\n",
    "            WHERE movie_id = 'tt3709556'\n",
    "\n",
    "  \"\"\"\n",
    "df = pd.read_sql(sql_querye, conn)\n",
    "\n",
    "# Display the DataFrame\n",
    "print(df)"
   ]
  },
  {
   "cell_type": "code",
   "execution_count": 80,
   "id": "314bf879-a8e5-4d12-b98d-3d3b558fd454",
   "metadata": {},
   "outputs": [
    {
     "name": "stdout",
     "output_type": "stream",
     "text": [
      "Movie Title: Finding Anthony, Genres: Drama,Family,Romance\n",
      "Movie Title: Tôkyô Densetsu: Yuganda Ikei Toshi, Genres: Horror\n",
      "Movie Title: Tachiiri kinshi Haittara shinu? Norowareta 5 hen, Genres: Horror\n",
      "Movie Title: Jak se moří revizoři, Genres: Comedy\n",
      "Movie Title: Jak se mori revizori, Genres: Comedy\n"
     ]
    }
   ],
   "source": [
    "#genre and titles for least rated movies.\n",
    "least_rated  = ['tt8426154','tt6792126','tt2447822 ','tt8446392','tt3709556','tt3717376 ','tt2293038','tt5452328','tt2087999 ','tt6153116 ']\n",
    "\n",
    "query = f\"\"\"\n",
    "    SELECT a.title, b.genres\n",
    "    FROM movie_akas a\n",
    "    INNER JOIN movie_basics b ON a.movie_id = b.movie_id\n",
    "    WHERE a.movie_id IN ({','.join(['?']*len(least_rated))})\n",
    "\"\"\"\n",
    "df = pd.read_sql_query(query, conn, params=least_rated)\n",
    "\n",
    "# Loop through the DataFrame and print movie title and genres\n",
    "for index, row in df.iterrows():\n",
    "    print(f\"Movie Title: {row['title']}, Genres: {row['genres']}\")\n",
    "\n",
    "\n"
   ]
  },
  {
   "cell_type": "code",
   "execution_count": null,
   "id": "e7da0efe-4044-41d6-8c45-14064f4053b7",
   "metadata": {},
   "outputs": [],
   "source": [
    "The least rated movies are Romance,Horror and comedy."
   ]
  },
  {
   "cell_type": "code",
   "execution_count": 90,
   "id": "445a81d0-ed82-471f-bfcf-db17bde5dbbd",
   "metadata": {},
   "outputs": [
    {
     "data": {
      "image/png": "[encoded data removed]",
      "text/plain": [
       "<Figure size 1000x600 with 1 Axes>"
      ]
     },
     "metadata": {},
     "output_type": "display_data"
    }
   ],
   "source": [
    "x=pd.read_sql(\"SELECT  runtime_minutes FROM movie_basics ;\", conn).head(50)\n",
    "\n",
    "y=pd.read_sql(\"SELECT averagerating FROM movie_ratings;\", conn).head(50)\n",
    "plt.figure(figsize=(10, 6))\n",
    "plt.scatter(x, y, color='skyblue', alpha=0.7)\n",
    "plt.xlabel('Runtime Minutes')\n",
    "plt.ylabel('Average Rating')\n",
    "plt.title('Scatter Plot of Average Rating vs Runtime Minutes')\n",
    "plt.grid(True)\n",
    "plt.tight_layout()\n",
    "plt.show()"
   ]
  },
  {
   "cell_type": "markdown",
   "id": "19be3a62-0f39-495d-8188-3f74e3f9fa01",
   "metadata": {},
   "source": [
    "There is no relationship between the average rating and the runtime minutes.\n",
    "\n"
   ]
  },
  {
   "cell_type": "markdown",
   "id": "2b6ada31-d6d7-422f-974d-8ff5eed20dc1",
   "metadata": {},
   "source": [
    "Conclusions.\n",
    "\n",
    "The least rated movies are Romance,Horror and comedy.\n",
    "\n",
    "The top two most produced movies are Documenataries and Drama.\n",
    "\n",
    "The most frequently watched movies are Documentaries.\n",
    "\n",
    "second best movie has a rntime of  is 70.0.\n",
    "\n",
    "The two best writers are:Brian Baucum and Loreto Di Cesare.\n",
    "\n",
    "The best producer is Maria Demeshkina Peek .\n",
    "\n",
    "A correlation coefficient of 0.685682 indicates a moderately positive correlation between the two variables. This means that as production_budget increases, domestic_gross tends to increase as well. In this case, a correlation coefficient of 0.685682 suggests a moderate positive relationship between production_budget and domestic_gross.\r\n",
    "\r\n",
    "A positive covariance suggests that when production_budget increases, domestic_gross also tends to increase, WHILE when the production_budget decreases the domestic_gross also decreases. the magnitude is quite large, indicating a strong relationship bwtween the production budget and domestic income.\r\n",
    "\r\n",
    "\n"
   ]
  },
  {
   "cell_type": "markdown",
   "id": "3ed50a79-75a4-42e3-a17f-47fdc9fa28d5",
   "metadata": {},
   "source": [
    "RECOMMEDATIONS.\n",
    "\n",
    "1.Given that Documentaries and Drama are the most produced movies, Microsoft should focus on these genres as they seem to resonate well with the audience.Since Documentaries are the most frequently watched movies, Microsoft could consider allocating more resources towards producing high-quality documentaries or exploring sub-genres within documentaries that are particularly appealing to the audience.\n",
    "\n",
    "2.Given that Brian Baucum and Loreto Di Cesare are identified as the best writers and Maria Demeshkina Peek as the best producer, Microsoft should continue to collaborate with these talented individuals and potentially invest in nurturing emerging talents in writing and production.\n",
    "\n",
    "3,Budget Allocation:\r\n",
    "\r\n",
    "With a correlation coefficient of 0.685682 and a positive covariance between production_budget and domestic_gross, it's evident that there's a moderately positive relationship between the production budget and domestic gross. Microsoft should consider allocating sufficient budgets to productions while ensuring effective cost management to maximize return\n",
    "\n",
    "4.The second-best movie has a runtime of 70.0 minutes. Microsoft may consider analyzing the runtime preferences of the audience and adjusting their movie lengths accordingly to optimize viewer engagement.s."
   ]
  },
  {
   "cell_type": "code",
   "execution_count": null,
   "id": "0f07d891-ba1b-43d7-bb77-d5485428a813",
   "metadata": {},
   "outputs": [],
   "source": []
  }
 ],
 "metadata": {
  "kernelspec": {
   "display_name": "Python 3 (ipykernel)",
   "language": "python",
   "name": "python3"
  },
  "language_info": {
   "codemirror_mode": {
    "name": "ipython",
    "version": 3
   },
   "file_extension": ".py",
   "mimetype": "text/x-python",
   "name": "python",
   "nbconvert_exporter": "python",
   "pygments_lexer": "ipython3",
   "version": "3.11.7"
  }
 },
 "nbformat": 4,
 "nbformat_minor": 5
}
